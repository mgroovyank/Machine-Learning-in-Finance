{
 "cells": [
  {
   "cell_type": "code",
   "execution_count": 29,
   "metadata": {},
   "outputs": [],
   "source": [
    "import pandas as pd\n",
    "import numpy as np\n",
    "import matplotlib.pyplot as plt"
   ]
  },
  {
   "cell_type": "code",
   "execution_count": 3,
   "metadata": {},
   "outputs": [],
   "source": [
    "data = pd.read_csv(\"./MSFT.csv\")"
   ]
  },
  {
   "cell_type": "code",
   "execution_count": 4,
   "metadata": {},
   "outputs": [
    {
     "data": {
      "text/html": [
       "<div>\n",
       "<style scoped>\n",
       "    .dataframe tbody tr th:only-of-type {\n",
       "        vertical-align: middle;\n",
       "    }\n",
       "\n",
       "    .dataframe tbody tr th {\n",
       "        vertical-align: top;\n",
       "    }\n",
       "\n",
       "    .dataframe thead th {\n",
       "        text-align: right;\n",
       "    }\n",
       "</style>\n",
       "<table border=\"1\" class=\"dataframe\">\n",
       "  <thead>\n",
       "    <tr style=\"text-align: right;\">\n",
       "      <th></th>\n",
       "      <th>Date</th>\n",
       "      <th>Close Price</th>\n",
       "      <th>Open Price</th>\n",
       "      <th>High Price</th>\n",
       "      <th>Low Price</th>\n",
       "      <th>Total Traded Quantity</th>\n",
       "    </tr>\n",
       "  </thead>\n",
       "  <tbody>\n",
       "    <tr>\n",
       "      <th>0</th>\n",
       "      <td>Oct 24, 2019</td>\n",
       "      <td>139.94</td>\n",
       "      <td>139.14</td>\n",
       "      <td>140.40</td>\n",
       "      <td>138.69</td>\n",
       "      <td>37.28M</td>\n",
       "    </tr>\n",
       "    <tr>\n",
       "      <th>1</th>\n",
       "      <td>Oct 23, 2019</td>\n",
       "      <td>137.24</td>\n",
       "      <td>136.88</td>\n",
       "      <td>137.45</td>\n",
       "      <td>135.61</td>\n",
       "      <td>31.38M</td>\n",
       "    </tr>\n",
       "    <tr>\n",
       "      <th>2</th>\n",
       "      <td>Oct 22, 2019</td>\n",
       "      <td>136.37</td>\n",
       "      <td>138.97</td>\n",
       "      <td>140.01</td>\n",
       "      <td>136.26</td>\n",
       "      <td>27.94M</td>\n",
       "    </tr>\n",
       "    <tr>\n",
       "      <th>3</th>\n",
       "      <td>Oct 21, 2019</td>\n",
       "      <td>138.43</td>\n",
       "      <td>138.45</td>\n",
       "      <td>138.50</td>\n",
       "      <td>137.01</td>\n",
       "      <td>20.72M</td>\n",
       "    </tr>\n",
       "    <tr>\n",
       "      <th>4</th>\n",
       "      <td>Oct 18, 2019</td>\n",
       "      <td>137.41</td>\n",
       "      <td>139.76</td>\n",
       "      <td>140.00</td>\n",
       "      <td>136.56</td>\n",
       "      <td>32.28M</td>\n",
       "    </tr>\n",
       "  </tbody>\n",
       "</table>\n",
       "</div>"
      ],
      "text/plain": [
       "           Date  Close Price  Open Price  High Price  Low Price  \\\n",
       "0  Oct 24, 2019       139.94      139.14      140.40     138.69   \n",
       "1  Oct 23, 2019       137.24      136.88      137.45     135.61   \n",
       "2  Oct 22, 2019       136.37      138.97      140.01     136.26   \n",
       "3  Oct 21, 2019       138.43      138.45      138.50     137.01   \n",
       "4  Oct 18, 2019       137.41      139.76      140.00     136.56   \n",
       "\n",
       "  Total Traded Quantity  \n",
       "0                37.28M  \n",
       "1                31.38M  \n",
       "2                27.94M  \n",
       "3                20.72M  \n",
       "4                32.28M  "
      ]
     },
     "execution_count": 4,
     "metadata": {},
     "output_type": "execute_result"
    }
   ],
   "source": [
    "data.head()"
   ]
  },
  {
   "cell_type": "code",
   "execution_count": 5,
   "metadata": {},
   "outputs": [
    {
     "name": "stdout",
     "output_type": "stream",
     "text": [
      "Mean Daily Return : -0.0010235198548110246\n",
      "Daily Standard Deviation of Returns : 0.015754443630775057\n"
     ]
    }
   ],
   "source": [
    "data[\"daily_return\"] = data['Close Price'].pct_change()\n",
    "data[\"daily_return\"] = data[\"daily_return\"].replace([-np.inf, np.inf], np.nan)\n",
    "data[\"daily_return\"] = data[\"daily_return\"].dropna()\n",
    "mean_daily_return = np.mean(data[\"daily_return\"])\n",
    "daily_std_return = np.std(data[\"daily_return\"])\n",
    "print(\"Mean Daily Return : {}\".format(mean_daily_return))\n",
    "print(\"Daily Standard Deviation of Returns : {}\".format(daily_std_return))"
   ]
  },
  {
   "cell_type": "code",
   "execution_count": 6,
   "metadata": {},
   "outputs": [
    {
     "name": "stdout",
     "output_type": "stream",
     "text": [
      "Annual Mean Returns : -0.2579270034123782\n",
      "Annual Stdev Returns(Volatility) : 0.2500940393472978\n"
     ]
    }
   ],
   "source": [
    "print(\"Annual Mean Returns : {}\".format(mean_daily_return * 252))\n",
    "print(\"Annual Stdev Returns(Volatility) : {}\".format(daily_std_return * np.sqrt(252)))"
   ]
  },
  {
   "cell_type": "code",
   "execution_count": 7,
   "metadata": {},
   "outputs": [],
   "source": [
    "hdfc = pd.read_csv(\"./Large_Cap/HDFC.csv\")\n",
    "itc = pd.read_csv(\"./Large_Cap/ITC.csv\")\n",
    "tcs = pd.read_csv(\"./Large_Cap/TCS.csv\")\n",
    "reliance = pd.read_csv(\"./Large_Cap/RELIANCE.csv\")\n",
    "gail = pd.read_csv(\"./Large_Cap/GAIL.csv\")"
   ]
  },
  {
   "cell_type": "code",
   "execution_count": 8,
   "metadata": {},
   "outputs": [],
   "source": [
    "portfolio = pd.DataFrame({\"HDFC\":hdfc[\"Close Price\"], \n",
    "                          \"ITC\":itc[\"Close Price\"],\n",
    "                          \"TCS\":tcs[\"Close Price\"],\n",
    "                          \"RELIANCE\":reliance[\"Close Price\"],\n",
    "                          \"GAIL\":gail[\"Close Price\"],\n",
    "                           })"
   ]
  },
  {
   "cell_type": "code",
   "execution_count": 9,
   "metadata": {},
   "outputs": [
    {
     "data": {
      "text/html": [
       "<div>\n",
       "<style scoped>\n",
       "    .dataframe tbody tr th:only-of-type {\n",
       "        vertical-align: middle;\n",
       "    }\n",
       "\n",
       "    .dataframe tbody tr th {\n",
       "        vertical-align: top;\n",
       "    }\n",
       "\n",
       "    .dataframe thead th {\n",
       "        text-align: right;\n",
       "    }\n",
       "</style>\n",
       "<table border=\"1\" class=\"dataframe\">\n",
       "  <thead>\n",
       "    <tr style=\"text-align: right;\">\n",
       "      <th></th>\n",
       "      <th>HDFC</th>\n",
       "      <th>ITC</th>\n",
       "      <th>TCS</th>\n",
       "      <th>RELIANCE</th>\n",
       "      <th>GAIL</th>\n",
       "    </tr>\n",
       "  </thead>\n",
       "  <tbody>\n",
       "    <tr>\n",
       "      <th>0</th>\n",
       "      <td>1559.50</td>\n",
       "      <td>277.95</td>\n",
       "      <td>2365.10</td>\n",
       "      <td>1344.10</td>\n",
       "      <td>414.00</td>\n",
       "    </tr>\n",
       "    <tr>\n",
       "      <th>1</th>\n",
       "      <td>205.00</td>\n",
       "      <td>283.45</td>\n",
       "      <td>2429.15</td>\n",
       "      <td>1356.30</td>\n",
       "      <td>411.40</td>\n",
       "    </tr>\n",
       "    <tr>\n",
       "      <th>2</th>\n",
       "      <td>1566.55</td>\n",
       "      <td>281.65</td>\n",
       "      <td>2455.35</td>\n",
       "      <td>1353.10</td>\n",
       "      <td>408.30</td>\n",
       "    </tr>\n",
       "    <tr>\n",
       "      <th>3</th>\n",
       "      <td>1552.50</td>\n",
       "      <td>277.90</td>\n",
       "      <td>2536.20</td>\n",
       "      <td>1327.35</td>\n",
       "      <td>404.75</td>\n",
       "    </tr>\n",
       "    <tr>\n",
       "      <th>4</th>\n",
       "      <td>207.00</td>\n",
       "      <td>286.20</td>\n",
       "      <td>2507.15</td>\n",
       "      <td>1318.85</td>\n",
       "      <td>401.05</td>\n",
       "    </tr>\n",
       "  </tbody>\n",
       "</table>\n",
       "</div>"
      ],
      "text/plain": [
       "      HDFC     ITC      TCS  RELIANCE    GAIL\n",
       "0  1559.50  277.95  2365.10   1344.10  414.00\n",
       "1   205.00  283.45  2429.15   1356.30  411.40\n",
       "2  1566.55  281.65  2455.35   1353.10  408.30\n",
       "3  1552.50  277.90  2536.20   1327.35  404.75\n",
       "4   207.00  286.20  2507.15   1318.85  401.05"
      ]
     },
     "execution_count": 9,
     "metadata": {},
     "output_type": "execute_result"
    }
   ],
   "source": [
    "portfolio.head()"
   ]
  },
  {
   "cell_type": "code",
   "execution_count": 10,
   "metadata": {},
   "outputs": [],
   "source": [
    "daily_returns = portfolio.pct_change().dropna()"
   ]
  },
  {
   "cell_type": "code",
   "execution_count": 11,
   "metadata": {},
   "outputs": [
    {
     "data": {
      "text/html": [
       "<div>\n",
       "<style scoped>\n",
       "    .dataframe tbody tr th:only-of-type {\n",
       "        vertical-align: middle;\n",
       "    }\n",
       "\n",
       "    .dataframe tbody tr th {\n",
       "        vertical-align: top;\n",
       "    }\n",
       "\n",
       "    .dataframe thead th {\n",
       "        text-align: right;\n",
       "    }\n",
       "</style>\n",
       "<table border=\"1\" class=\"dataframe\">\n",
       "  <thead>\n",
       "    <tr style=\"text-align: right;\">\n",
       "      <th></th>\n",
       "      <th>HDFC</th>\n",
       "      <th>ITC</th>\n",
       "      <th>TCS</th>\n",
       "      <th>RELIANCE</th>\n",
       "      <th>GAIL</th>\n",
       "    </tr>\n",
       "  </thead>\n",
       "  <tbody>\n",
       "    <tr>\n",
       "      <th>1</th>\n",
       "      <td>-0.868548</td>\n",
       "      <td>0.019788</td>\n",
       "      <td>0.027081</td>\n",
       "      <td>0.009077</td>\n",
       "      <td>-0.006280</td>\n",
       "    </tr>\n",
       "    <tr>\n",
       "      <th>2</th>\n",
       "      <td>6.641707</td>\n",
       "      <td>-0.006350</td>\n",
       "      <td>0.010786</td>\n",
       "      <td>-0.002359</td>\n",
       "      <td>-0.007535</td>\n",
       "    </tr>\n",
       "    <tr>\n",
       "      <th>3</th>\n",
       "      <td>-0.008969</td>\n",
       "      <td>-0.013314</td>\n",
       "      <td>0.032928</td>\n",
       "      <td>-0.019030</td>\n",
       "      <td>-0.008695</td>\n",
       "    </tr>\n",
       "    <tr>\n",
       "      <th>4</th>\n",
       "      <td>-0.866667</td>\n",
       "      <td>0.029867</td>\n",
       "      <td>-0.011454</td>\n",
       "      <td>-0.006404</td>\n",
       "      <td>-0.009141</td>\n",
       "    </tr>\n",
       "    <tr>\n",
       "      <th>5</th>\n",
       "      <td>6.425362</td>\n",
       "      <td>0.060797</td>\n",
       "      <td>0.009652</td>\n",
       "      <td>0.004019</td>\n",
       "      <td>-0.027054</td>\n",
       "    </tr>\n",
       "  </tbody>\n",
       "</table>\n",
       "</div>"
      ],
      "text/plain": [
       "       HDFC       ITC       TCS  RELIANCE      GAIL\n",
       "1 -0.868548  0.019788  0.027081  0.009077 -0.006280\n",
       "2  6.641707 -0.006350  0.010786 -0.002359 -0.007535\n",
       "3 -0.008969 -0.013314  0.032928 -0.019030 -0.008695\n",
       "4 -0.866667  0.029867 -0.011454 -0.006404 -0.009141\n",
       "5  6.425362  0.060797  0.009652  0.004019 -0.027054"
      ]
     },
     "execution_count": 11,
     "metadata": {},
     "output_type": "execute_result"
    }
   ],
   "source": [
    "daily_returns.head()"
   ]
  },
  {
   "cell_type": "code",
   "execution_count": 12,
   "metadata": {},
   "outputs": [
    {
     "data": {
      "text/plain": [
       "HDFC        1.387116\n",
       "ITC         0.000109\n",
       "TCS         0.000177\n",
       "RELIANCE    0.000206\n",
       "GAIL       -0.000124\n",
       "dtype: float64"
      ]
     },
     "execution_count": 12,
     "metadata": {},
     "output_type": "execute_result"
    }
   ],
   "source": [
    "mean_daily_returns = daily_returns.mean()\n",
    "mean_daily_returns"
   ]
  },
  {
   "cell_type": "code",
   "execution_count": 13,
   "metadata": {},
   "outputs": [
    {
     "name": "stdout",
     "output_type": "stream",
     "text": [
      "portfolio Return : 69.93\n"
     ]
    }
   ],
   "source": [
    "weights = 0.20\n",
    "portfolio_return = round(np.sum(weights * mean_daily_returns.values)*252, 2)\n",
    "print(\"portfolio Return : {}\".format(portfolio_return))"
   ]
  },
  {
   "cell_type": "code",
   "execution_count": 14,
   "metadata": {},
   "outputs": [
    {
     "data": {
      "text/html": [
       "<div>\n",
       "<style scoped>\n",
       "    .dataframe tbody tr th:only-of-type {\n",
       "        vertical-align: middle;\n",
       "    }\n",
       "\n",
       "    .dataframe tbody tr th {\n",
       "        vertical-align: top;\n",
       "    }\n",
       "\n",
       "    .dataframe thead th {\n",
       "        text-align: right;\n",
       "    }\n",
       "</style>\n",
       "<table border=\"1\" class=\"dataframe\">\n",
       "  <thead>\n",
       "    <tr style=\"text-align: right;\">\n",
       "      <th></th>\n",
       "      <th>HDFC</th>\n",
       "      <th>ITC</th>\n",
       "      <th>TCS</th>\n",
       "      <th>RELIANCE</th>\n",
       "      <th>GAIL</th>\n",
       "    </tr>\n",
       "  </thead>\n",
       "  <tbody>\n",
       "    <tr>\n",
       "      <th>HDFC</th>\n",
       "      <td>5.949124</td>\n",
       "      <td>6.746729e-04</td>\n",
       "      <td>-3.788963e-04</td>\n",
       "      <td>0.000811</td>\n",
       "      <td>0.001988</td>\n",
       "    </tr>\n",
       "    <tr>\n",
       "      <th>ITC</th>\n",
       "      <td>0.000675</td>\n",
       "      <td>1.193709e-04</td>\n",
       "      <td>-2.978112e-07</td>\n",
       "      <td>0.000018</td>\n",
       "      <td>0.000013</td>\n",
       "    </tr>\n",
       "    <tr>\n",
       "      <th>TCS</th>\n",
       "      <td>-0.000379</td>\n",
       "      <td>-2.978112e-07</td>\n",
       "      <td>4.398226e-04</td>\n",
       "      <td>0.000004</td>\n",
       "      <td>-0.000032</td>\n",
       "    </tr>\n",
       "    <tr>\n",
       "      <th>RELIANCE</th>\n",
       "      <td>0.000811</td>\n",
       "      <td>1.824221e-05</td>\n",
       "      <td>3.889162e-06</td>\n",
       "      <td>0.000455</td>\n",
       "      <td>0.000037</td>\n",
       "    </tr>\n",
       "    <tr>\n",
       "      <th>GAIL</th>\n",
       "      <td>0.001988</td>\n",
       "      <td>1.319907e-05</td>\n",
       "      <td>-3.230333e-05</td>\n",
       "      <td>0.000037</td>\n",
       "      <td>0.000270</td>\n",
       "    </tr>\n",
       "  </tbody>\n",
       "</table>\n",
       "</div>"
      ],
      "text/plain": [
       "              HDFC           ITC           TCS  RELIANCE      GAIL\n",
       "HDFC      5.949124  6.746729e-04 -3.788963e-04  0.000811  0.001988\n",
       "ITC       0.000675  1.193709e-04 -2.978112e-07  0.000018  0.000013\n",
       "TCS      -0.000379 -2.978112e-07  4.398226e-04  0.000004 -0.000032\n",
       "RELIANCE  0.000811  1.824221e-05  3.889162e-06  0.000455  0.000037\n",
       "GAIL      0.001988  1.319907e-05 -3.230333e-05  0.000037  0.000270"
      ]
     },
     "execution_count": 14,
     "metadata": {},
     "output_type": "execute_result"
    }
   ],
   "source": [
    "cov_mat = daily_returns.cov()\n",
    "cov_mat"
   ]
  },
  {
   "cell_type": "code",
   "execution_count": 22,
   "metadata": {},
   "outputs": [],
   "source": [
    "weights = np.array([0.2,0.2,0.2,0.2,0.2])\n",
    "weights.reshape(5, 1)\n",
    "portfolio_var = round(np.sqrt(np.dot(weights.T,np.dot(cov_mat, weights))) * np.sqrt(252),2)"
   ]
  },
  {
   "cell_type": "code",
   "execution_count": 23,
   "metadata": {},
   "outputs": [
    {
     "name": "stdout",
     "output_type": "stream",
     "text": [
      "portfolio volatility: 7.75\n"
     ]
    }
   ],
   "source": [
    "print(\"portfolio volatility: {}\".format(portfolio_var))"
   ]
  },
  {
   "cell_type": "code",
   "execution_count": 40,
   "metadata": {},
   "outputs": [],
   "source": [
    "num_portfolio = 1200\n",
    "results = np.zeros((num_portfolio, 3))"
   ]
  },
  {
   "cell_type": "code",
   "execution_count": 41,
   "metadata": {},
   "outputs": [],
   "source": [
    "for i in range(num_portfolio):\n",
    "    weights = np.random.random(5)\n",
    "    weights = weights / np.sum(weights)\n",
    "    portfolio_return = np.sum(mean_daily_returns * weights) * 252\n",
    "    portfolio_var = np.sqrt(np.dot(weights.T,np.dot(cov_mat, weights))) * np.sqrt(252)\n",
    "    portfolio_sharpe = portfolio_return / portfolio_var\n",
    "    results[i][0] = portfolio_return\n",
    "    results[i][1] = portfolio_var\n",
    "    results[i][2] = portfolio_sharpe"
   ]
  },
  {
   "cell_type": "code",
   "execution_count": 42,
   "metadata": {},
   "outputs": [],
   "source": [
    "results_df = pd.DataFrame(results,columns=[\"return\",\"volatility\",\"sharpe\"])"
   ]
  },
  {
   "cell_type": "code",
   "execution_count": 45,
   "metadata": {},
   "outputs": [
    {
     "data": {
      "text/html": [
       "<div>\n",
       "<style scoped>\n",
       "    .dataframe tbody tr th:only-of-type {\n",
       "        vertical-align: middle;\n",
       "    }\n",
       "\n",
       "    .dataframe tbody tr th {\n",
       "        vertical-align: top;\n",
       "    }\n",
       "\n",
       "    .dataframe thead th {\n",
       "        text-align: right;\n",
       "    }\n",
       "</style>\n",
       "<table border=\"1\" class=\"dataframe\">\n",
       "  <thead>\n",
       "    <tr style=\"text-align: right;\">\n",
       "      <th></th>\n",
       "      <th>return</th>\n",
       "      <th>volatility</th>\n",
       "      <th>sharpe</th>\n",
       "    </tr>\n",
       "  </thead>\n",
       "  <tbody>\n",
       "    <tr>\n",
       "      <th>0</th>\n",
       "      <td>70.020345</td>\n",
       "      <td>7.759874</td>\n",
       "      <td>9.023387</td>\n",
       "    </tr>\n",
       "    <tr>\n",
       "      <th>1</th>\n",
       "      <td>107.574437</td>\n",
       "      <td>11.913903</td>\n",
       "      <td>9.029319</td>\n",
       "    </tr>\n",
       "    <tr>\n",
       "      <th>2</th>\n",
       "      <td>74.487561</td>\n",
       "      <td>8.252614</td>\n",
       "      <td>9.025935</td>\n",
       "    </tr>\n",
       "    <tr>\n",
       "      <th>3</th>\n",
       "      <td>114.254887</td>\n",
       "      <td>12.656532</td>\n",
       "      <td>9.027345</td>\n",
       "    </tr>\n",
       "    <tr>\n",
       "      <th>4</th>\n",
       "      <td>61.950872</td>\n",
       "      <td>6.865674</td>\n",
       "      <td>9.023276</td>\n",
       "    </tr>\n",
       "  </tbody>\n",
       "</table>\n",
       "</div>"
      ],
      "text/plain": [
       "       return  volatility    sharpe\n",
       "0   70.020345    7.759874  9.023387\n",
       "1  107.574437   11.913903  9.029319\n",
       "2   74.487561    8.252614  9.025935\n",
       "3  114.254887   12.656532  9.027345\n",
       "4   61.950872    6.865674  9.023276"
      ]
     },
     "execution_count": 45,
     "metadata": {},
     "output_type": "execute_result"
    }
   ],
   "source": [
    "results_df.head()"
   ]
  },
  {
   "cell_type": "code",
   "execution_count": 47,
   "metadata": {},
   "outputs": [],
   "source": [
    "max_sharpe = results_df.iloc[results_df['sharpe'].idxmax()]\n",
    "min_vol = results_df.iloc[results_df['volatility'].idxmin()]"
   ]
  },
  {
   "cell_type": "code",
   "execution_count": 55,
   "metadata": {},
   "outputs": [
    {
     "data": {
      "text/plain": [
       "<matplotlib.colorbar.Colorbar at 0x20bfef97fc8>"
      ]
     },
     "execution_count": 55,
     "metadata": {},
     "output_type": "execute_result"
    },
    {
     "data": {
      "image/png": "[encoded data removed]",
      "text/plain": [
       "<Figure size 432x288 with 2 Axes>"
      ]
     },
     "metadata": {
      "needs_background": "light"
     },
     "output_type": "display_data"
    }
   ],
   "source": [
    "plt.scatter(results_df[\"volatility\"],results_df[\"return\"],c=results_df[\"sharpe\"],cmap='RdYlBu')\n",
    "plt.scatter(max_sharpe[1],max_sharpe[0],marker=\"*\",color='r',s=500)\n",
    "plt.scatter(min_vol[1],min_vol[0],marker=\"*\",color='g',s=500)\n",
    "plt.xlabel(\"Volatility\")\n",
    "plt.ylabel(\"Returns\")\n",
    "plt.colorbar()"
   ]
  },
  {
   "cell_type": "code",
   "execution_count": null,
   "metadata": {},
   "outputs": [],
   "source": []
  }
 ],
 "metadata": {
  "kernelspec": {
   "display_name": "Python 3",
   "language": "python",
   "name": "python3"
  },
  "language_info": {
   "codemirror_mode": {
    "name": "ipython",
    "version": 3
   },
   "file_extension": ".py",
   "mimetype": "text/x-python",
   "name": "python",
   "nbconvert_exporter": "python",
   "pygments_lexer": "ipython3",
   "version": "3.7.6"
  }
 },
 "nbformat": 4,
 "nbformat_minor": 4
}
