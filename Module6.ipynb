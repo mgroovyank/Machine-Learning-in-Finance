{
 "cells": [
  {
   "cell_type": "code",
   "execution_count": 132,
   "metadata": {},
   "outputs": [],
   "source": [
    "import pandas as pd\n",
    "import numpy as np\n",
    "import matplotlib.pyplot as plt"
   ]
  },
  {
   "cell_type": "code",
   "execution_count": 133,
   "metadata": {},
   "outputs": [],
   "source": [
    "data = pd.DataFrame()"
   ]
  },
  {
   "cell_type": "code",
   "execution_count": 134,
   "metadata": {},
   "outputs": [],
   "source": [
    "sm_1 = pd.read_csv(\"./Small_Cap/ASHOKA.csv\")\n",
    "sm_2 = pd.read_csv(\"./Small_Cap/BAJAJELEC.csv\")\n",
    "sm_3 = pd.read_csv(\"./Small_Cap/BOMDYEING.csv\")\n",
    "sm_4 = pd.read_csv(\"./Small_Cap/CENTURYPLY.csv\")\n",
    "data[\"ASHOKA\"] = sm_1[\"Close Price\"]\n",
    "data[\"BAJAJELEC\"] = sm_2[\"Close Price\"]\n",
    "data[\"BOMDYEING\"] = sm_3[\"Close Price\"]\n",
    "data[\"CENTURYPLY\"] = sm_4[\"Close Price\"]\n",
    "sm_5 = pd.read_csv(\"./Small_Cap/FORTIS.csv\")\n",
    "data[\"FORTIS\"] = sm_5[\"Close Price\"]\n",
    "sm_6 = pd.read_csv(\"./Small_Cap/IDFC.csv\")\n",
    "data[\"IDFC\"] = sm_6[\"Close Price\"]\n",
    "sm_7 = pd.read_csv(\"./Small_Cap/NCC.csv\")\n",
    "data[\"NCC\"] = sm_7[\"Close Price\"]\n",
    "sm_8 = pd.read_csv(\"./Small_Cap/PVR.csv\")\n",
    "data[\"PVR\"] = sm_8[\"Close Price\"]\n",
    "sm_9 = pd.read_csv(\"./Small_Cap/RAYMOND.csv\")\n",
    "data[\"RAYMOND\"] = sm_9[\"Close Price\"]\n",
    "sm_10 = pd.read_csv(\"./Small_Cap/RCOM.csv\")\n",
    "data[\"RCOM\"] = sm_10[\"Close Price\"]"
   ]
  },
  {
   "cell_type": "code",
   "execution_count": 135,
   "metadata": {},
   "outputs": [],
   "source": [
    "md_1 = pd.read_csv(\"./Mid_Cap/DHFL.csv\")\n",
    "data[\"DHFL\"] = md_1[\"Close Price\"]\n",
    "md_2 = pd.read_csv(\"./Mid_Cap/IDBI.csv\")\n",
    "data[\"IDBI\"] = md_2[\"Close Price\"]\n",
    "md_3 = pd.read_csv(\"./Mid_Cap/IGL.csv\")\n",
    "data[\"IGL\"] = md_3[\"Close Price\"]\n",
    "md_4 = pd.read_csv(\"./Mid_Cap/PNB.csv\")\n",
    "data[\"PNB\"] = md_4[\"Close Price\"]\n",
    "md_5 = pd.read_csv(\"./Mid_Cap/SUNTV.csv\")\n",
    "data[\"SUNTV\"] = md_5[\"Close Price\"]\n",
    "md_6 = pd.read_csv(\"./Mid_Cap/TATACHEM.csv\")\n",
    "data[\"TATACHEM\"] = md_6[\"Close Price\"]\n",
    "md_7 = pd.read_csv(\"./Mid_Cap/TATAPOWER.csv\")\n",
    "data[\"TATAPOWER\"] = md_7[\"Close Price\"]\n",
    "md_8 = pd.read_csv(\"./Mid_Cap/VOLTAS.csv\")\n",
    "data[\"VOLTAS\"] = md_8[\"Close Price\"]\n",
    "md_9 = pd.read_csv(\"./Mid_Cap/CASTROLIND.csv\")\n",
    "data[\"CASTROLIND\"] = md_9[\"Close Price\"]\n",
    "md_10 = pd.read_csv(\"./Mid_Cap/MINDTREE.csv\")\n",
    "data[\"MINDTREE\"] = md_10[\"Close Price\"]"
   ]
  },
  {
   "cell_type": "code",
   "execution_count": 136,
   "metadata": {},
   "outputs": [],
   "source": [
    "lr_1 = pd.read_csv(\"./Large_Cap/ASIANPAINT.csv\")\n",
    "data[\"ASIANPAINT\"] = lr_1[\"Close Price\"]\n",
    "lr_2 = pd.read_csv(\"./Large_Cap/AXISBANK.csv\")\n",
    "data[\"AXISBANK\"] = lr_2[\"Close Price\"]\n",
    "lr_3 = pd.read_csv(\"./Large_Cap/BPCL.csv\")\n",
    "data[\"BPCL\"] = lr_3[\"Close Price\"]\n",
    "lr_4 = pd.read_csv(\"./Large_Cap/CIPLA.csv\")\n",
    "data[\"CIPLA\"] = lr_4[\"Close Price\"]\n",
    "lr_5 = pd.read_csv(\"./Large_Cap/INFY.csv\")\n",
    "data[\"INFY\"] = lr_5[\"Close Price\"]\n",
    "lr_6 = pd.read_csv(\"./Large_Cap/IOC.csv\")\n",
    "data[\"IOC\"] = lr_6[\"Close Price\"]\n",
    "lr_7 = pd.read_csv(\"./Large_Cap/ITC.csv\")\n",
    "data[\"ITC\"] = lr_7[\"Close Price\"]\n",
    "lr_8 = pd.read_csv(\"./Large_Cap/TCS.csv\")\n",
    "data[\"TCS\"] = lr_8[\"Close Price\"]\n",
    "lr_9 = pd.read_csv(\"./Large_Cap/TITAN.csv\")\n",
    "data[\"TITAN\"] = lr_9[\"Close Price\"]\n",
    "lr_10 = pd.read_csv(\"./Large_Cap/RELIANCE.csv\")\n",
    "data[\"RELIANCE\"] = lr_10[\"Close Price\"]"
   ]
  },
  {
   "cell_type": "code",
   "execution_count": 137,
   "metadata": {},
   "outputs": [
    {
     "data": {
      "text/html": [
       "<div>\n",
       "<style scoped>\n",
       "    .dataframe tbody tr th:only-of-type {\n",
       "        vertical-align: middle;\n",
       "    }\n",
       "\n",
       "    .dataframe tbody tr th {\n",
       "        vertical-align: top;\n",
       "    }\n",
       "\n",
       "    .dataframe thead th {\n",
       "        text-align: right;\n",
       "    }\n",
       "</style>\n",
       "<table border=\"1\" class=\"dataframe\">\n",
       "  <thead>\n",
       "    <tr style=\"text-align: right;\">\n",
       "      <th></th>\n",
       "      <th>ASHOKA</th>\n",
       "      <th>BAJAJELEC</th>\n",
       "      <th>BOMDYEING</th>\n",
       "      <th>CENTURYPLY</th>\n",
       "      <th>FORTIS</th>\n",
       "      <th>IDFC</th>\n",
       "      <th>NCC</th>\n",
       "      <th>PVR</th>\n",
       "      <th>RAYMOND</th>\n",
       "      <th>RCOM</th>\n",
       "      <th>...</th>\n",
       "      <th>ASIANPAINT</th>\n",
       "      <th>AXISBANK</th>\n",
       "      <th>BPCL</th>\n",
       "      <th>CIPLA</th>\n",
       "      <th>INFY</th>\n",
       "      <th>IOC</th>\n",
       "      <th>ITC</th>\n",
       "      <th>TCS</th>\n",
       "      <th>TITAN</th>\n",
       "      <th>RELIANCE</th>\n",
       "    </tr>\n",
       "  </thead>\n",
       "  <tbody>\n",
       "    <tr>\n",
       "      <th>0</th>\n",
       "      <td>216.05</td>\n",
       "      <td>341.15</td>\n",
       "      <td>82.20</td>\n",
       "      <td>266.65</td>\n",
       "      <td>205.25</td>\n",
       "      <td>63.70</td>\n",
       "      <td>97.35</td>\n",
       "      <td>1524.95</td>\n",
       "      <td>772.80</td>\n",
       "      <td>32.00</td>\n",
       "      <td>...</td>\n",
       "      <td>1148.05</td>\n",
       "      <td>500.1</td>\n",
       "      <td>727.85</td>\n",
       "      <td>569.00</td>\n",
       "      <td>951.55</td>\n",
       "      <td>442.10</td>\n",
       "      <td>277.95</td>\n",
       "      <td>2365.10</td>\n",
       "      <td>483.65</td>\n",
       "      <td>1344.10</td>\n",
       "    </tr>\n",
       "    <tr>\n",
       "      <th>1</th>\n",
       "      <td>214.90</td>\n",
       "      <td>347.00</td>\n",
       "      <td>83.40</td>\n",
       "      <td>266.10</td>\n",
       "      <td>207.90</td>\n",
       "      <td>64.25</td>\n",
       "      <td>100.40</td>\n",
       "      <td>1539.00</td>\n",
       "      <td>785.00</td>\n",
       "      <td>32.10</td>\n",
       "      <td>...</td>\n",
       "      <td>1142.85</td>\n",
       "      <td>501.5</td>\n",
       "      <td>733.30</td>\n",
       "      <td>565.60</td>\n",
       "      <td>955.00</td>\n",
       "      <td>446.60</td>\n",
       "      <td>283.45</td>\n",
       "      <td>2429.15</td>\n",
       "      <td>488.30</td>\n",
       "      <td>1356.30</td>\n",
       "    </tr>\n",
       "    <tr>\n",
       "      <th>2</th>\n",
       "      <td>217.00</td>\n",
       "      <td>349.85</td>\n",
       "      <td>82.25</td>\n",
       "      <td>264.85</td>\n",
       "      <td>205.90</td>\n",
       "      <td>63.35</td>\n",
       "      <td>101.45</td>\n",
       "      <td>1530.30</td>\n",
       "      <td>783.65</td>\n",
       "      <td>31.95</td>\n",
       "      <td>...</td>\n",
       "      <td>1154.95</td>\n",
       "      <td>502.8</td>\n",
       "      <td>727.45</td>\n",
       "      <td>562.35</td>\n",
       "      <td>952.80</td>\n",
       "      <td>444.25</td>\n",
       "      <td>281.65</td>\n",
       "      <td>2455.35</td>\n",
       "      <td>481.75</td>\n",
       "      <td>1353.10</td>\n",
       "    </tr>\n",
       "    <tr>\n",
       "      <th>3</th>\n",
       "      <td>209.65</td>\n",
       "      <td>334.10</td>\n",
       "      <td>78.95</td>\n",
       "      <td>260.35</td>\n",
       "      <td>196.85</td>\n",
       "      <td>61.50</td>\n",
       "      <td>97.00</td>\n",
       "      <td>1515.05</td>\n",
       "      <td>746.95</td>\n",
       "      <td>31.05</td>\n",
       "      <td>...</td>\n",
       "      <td>1151.35</td>\n",
       "      <td>492.0</td>\n",
       "      <td>714.90</td>\n",
       "      <td>560.10</td>\n",
       "      <td>961.75</td>\n",
       "      <td>439.90</td>\n",
       "      <td>277.90</td>\n",
       "      <td>2536.20</td>\n",
       "      <td>471.65</td>\n",
       "      <td>1327.35</td>\n",
       "    </tr>\n",
       "    <tr>\n",
       "      <th>4</th>\n",
       "      <td>206.25</td>\n",
       "      <td>336.20</td>\n",
       "      <td>77.15</td>\n",
       "      <td>254.05</td>\n",
       "      <td>203.55</td>\n",
       "      <td>61.15</td>\n",
       "      <td>95.45</td>\n",
       "      <td>1513.55</td>\n",
       "      <td>723.10</td>\n",
       "      <td>30.55</td>\n",
       "      <td>...</td>\n",
       "      <td>1123.15</td>\n",
       "      <td>501.7</td>\n",
       "      <td>702.45</td>\n",
       "      <td>564.95</td>\n",
       "      <td>957.95</td>\n",
       "      <td>435.40</td>\n",
       "      <td>286.20</td>\n",
       "      <td>2507.15</td>\n",
       "      <td>471.15</td>\n",
       "      <td>1318.85</td>\n",
       "    </tr>\n",
       "  </tbody>\n",
       "</table>\n",
       "<p>5 rows × 30 columns</p>\n",
       "</div>"
      ],
      "text/plain": [
       "   ASHOKA  BAJAJELEC  BOMDYEING  CENTURYPLY  FORTIS   IDFC     NCC      PVR  \\\n",
       "0  216.05     341.15      82.20      266.65  205.25  63.70   97.35  1524.95   \n",
       "1  214.90     347.00      83.40      266.10  207.90  64.25  100.40  1539.00   \n",
       "2  217.00     349.85      82.25      264.85  205.90  63.35  101.45  1530.30   \n",
       "3  209.65     334.10      78.95      260.35  196.85  61.50   97.00  1515.05   \n",
       "4  206.25     336.20      77.15      254.05  203.55  61.15   95.45  1513.55   \n",
       "\n",
       "   RAYMOND   RCOM  ...  ASIANPAINT  AXISBANK    BPCL   CIPLA    INFY     IOC  \\\n",
       "0   772.80  32.00  ...     1148.05     500.1  727.85  569.00  951.55  442.10   \n",
       "1   785.00  32.10  ...     1142.85     501.5  733.30  565.60  955.00  446.60   \n",
       "2   783.65  31.95  ...     1154.95     502.8  727.45  562.35  952.80  444.25   \n",
       "3   746.95  31.05  ...     1151.35     492.0  714.90  560.10  961.75  439.90   \n",
       "4   723.10  30.55  ...     1123.15     501.7  702.45  564.95  957.95  435.40   \n",
       "\n",
       "      ITC      TCS   TITAN  RELIANCE  \n",
       "0  277.95  2365.10  483.65   1344.10  \n",
       "1  283.45  2429.15  488.30   1356.30  \n",
       "2  281.65  2455.35  481.75   1353.10  \n",
       "3  277.90  2536.20  471.65   1327.35  \n",
       "4  286.20  2507.15  471.15   1318.85  \n",
       "\n",
       "[5 rows x 30 columns]"
      ]
     },
     "execution_count": 137,
     "metadata": {},
     "output_type": "execute_result"
    }
   ],
   "source": [
    "data = data.dropna()\n",
    "data.head()"
   ]
  },
  {
   "cell_type": "code",
   "execution_count": 138,
   "metadata": {},
   "outputs": [
    {
     "data": {
      "text/html": [
       "<div>\n",
       "<style scoped>\n",
       "    .dataframe tbody tr th:only-of-type {\n",
       "        vertical-align: middle;\n",
       "    }\n",
       "\n",
       "    .dataframe tbody tr th {\n",
       "        vertical-align: top;\n",
       "    }\n",
       "\n",
       "    .dataframe thead th {\n",
       "        text-align: right;\n",
       "    }\n",
       "</style>\n",
       "<table border=\"1\" class=\"dataframe\">\n",
       "  <thead>\n",
       "    <tr style=\"text-align: right;\">\n",
       "      <th></th>\n",
       "      <th>Returns</th>\n",
       "      <th>Volatility</th>\n",
       "    </tr>\n",
       "  </thead>\n",
       "  <tbody>\n",
       "    <tr>\n",
       "      <th>ASHOKA</th>\n",
       "      <td>-0.208509</td>\n",
       "      <td>0.442974</td>\n",
       "    </tr>\n",
       "    <tr>\n",
       "      <th>BAJAJELEC</th>\n",
       "      <td>0.316053</td>\n",
       "      <td>0.402414</td>\n",
       "    </tr>\n",
       "    <tr>\n",
       "      <th>BOMDYEING</th>\n",
       "      <td>0.327621</td>\n",
       "      <td>0.602869</td>\n",
       "    </tr>\n",
       "    <tr>\n",
       "      <th>CENTURYPLY</th>\n",
       "      <td>-0.182338</td>\n",
       "      <td>0.375269</td>\n",
       "    </tr>\n",
       "    <tr>\n",
       "      <th>FORTIS</th>\n",
       "      <td>-0.137297</td>\n",
       "      <td>0.421483</td>\n",
       "    </tr>\n",
       "  </tbody>\n",
       "</table>\n",
       "</div>"
      ],
      "text/plain": [
       "             Returns  Volatility\n",
       "ASHOKA     -0.208509    0.442974\n",
       "BAJAJELEC   0.316053    0.402414\n",
       "BOMDYEING   0.327621    0.602869\n",
       "CENTURYPLY -0.182338    0.375269\n",
       "FORTIS     -0.137297    0.421483"
      ]
     },
     "execution_count": 138,
     "metadata": {},
     "output_type": "execute_result"
    }
   ],
   "source": [
    "ret = pd.DataFrame(columns=[\"Returns\", \"Volatility\"])\n",
    "ret[\"Returns\"] = data.pct_change().mean() * 252\n",
    "ret['Volatility'] = data.pct_change().std() * np.sqrt(252)\n",
    "ret.head()"
   ]
  },
  {
   "cell_type": "code",
   "execution_count": 139,
   "metadata": {},
   "outputs": [],
   "source": [
    "from sklearn.cluster import KMeans\n",
    "from scipy.spatial.distance import cdist"
   ]
  },
  {
   "cell_type": "code",
   "execution_count": 140,
   "metadata": {},
   "outputs": [
    {
     "data": {
      "image/png": "[encoded data removed]",
      "text/plain": [
       "<Figure size 432x288 with 1 Axes>"
      ]
     },
     "metadata": {
      "needs_background": "light"
     },
     "output_type": "display_data"
    }
   ],
   "source": [
    "x1 = np.array(ret[\"Returns\"])\n",
    "x2 = np.array(ret[\"Volatility\"])\n",
    "X = np.array(list(zip(x1, x2))).reshape(len(x1), 2)\n",
    "plt.plot() \n",
    "plt.scatter(x1, x2) \n",
    "plt.show()"
   ]
  },
  {
   "cell_type": "code",
   "execution_count": 141,
   "metadata": {},
   "outputs": [],
   "source": [
    "distortions = [] \n",
    "inertias = [] \n",
    "mapping1 = {} \n",
    "mapping2 = {} \n",
    "K = range(1,10) \n",
    "for k in K: \n",
    "    kmeanModel = KMeans(n_clusters=k).fit(X) \n",
    "    kmeanModel.fit(X)     \n",
    "    \n",
    "    distortions.append(sum(np.min(cdist(X, kmeanModel.cluster_centers_, \n",
    "                      'euclidean'),axis=1)) / X.shape[0]) \n",
    "    inertias.append(kmeanModel.inertia_) \n",
    "  \n",
    "    mapping1[k] = sum(np.min(cdist(X, kmeanModel.cluster_centers_, \n",
    "                 'euclidean'),axis=1)) / X.shape[0] \n",
    "    mapping2[k] = kmeanModel.inertia_ "
   ]
  },
  {
   "cell_type": "code",
   "execution_count": 142,
   "metadata": {},
   "outputs": [
    {
     "name": "stdout",
     "output_type": "stream",
     "text": [
      "1 : 1.8866521405145709\n",
      "2 : 0.24680483660798674\n",
      "3 : 0.16507136538185183\n",
      "4 : 0.1300382450730478\n",
      "5 : 0.10255171073495623\n",
      "6 : 0.0894595658295883\n",
      "7 : 0.0761723682170648\n",
      "8 : 0.06706027589191654\n",
      "9 : 0.0578654193953404\n"
     ]
    }
   ],
   "source": [
    "for key,val in mapping1.items(): \n",
    "\tprint(str(key)+' : '+str(val)) \n"
   ]
  },
  {
   "cell_type": "code",
   "execution_count": 143,
   "metadata": {},
   "outputs": [
    {
     "data": {
      "image/png": "[encoded data removed]",
      "text/plain": [
       "<Figure size 432x288 with 1 Axes>"
      ]
     },
     "metadata": {
      "needs_background": "light"
     },
     "output_type": "display_data"
    }
   ],
   "source": [
    "plt.plot(K, distortions, 'bx-') \n",
    "plt.xlabel('Values of K') \n",
    "plt.ylabel('Distortion') \n",
    "plt.title('The Elbow Method using Distortion') \n",
    "plt.show() "
   ]
  },
  {
   "cell_type": "code",
   "execution_count": 144,
   "metadata": {},
   "outputs": [
    {
     "name": "stdout",
     "output_type": "stream",
     "text": [
      "1 : 816.9057267363534\n",
      "2 : 2.876535088153083\n",
      "3 : 1.3502534076850476\n",
      "4 : 0.6990194741365623\n",
      "5 : 0.4067803587325397\n",
      "6 : 0.3291881107052723\n",
      "7 : 0.25093248257622114\n",
      "8 : 0.19240970045306527\n",
      "9 : 0.14343763276380633\n"
     ]
    }
   ],
   "source": [
    "for key,val in mapping2.items(): \n",
    "    print(str(key)+' : '+str(val)) "
   ]
  },
  {
   "cell_type": "code",
   "execution_count": 145,
   "metadata": {},
   "outputs": [
    {
     "data": {
      "image/png": "[encoded data removed]",
      "text/plain": [
       "<Figure size 432x288 with 1 Axes>"
      ]
     },
     "metadata": {
      "needs_background": "light"
     },
     "output_type": "display_data"
    }
   ],
   "source": [
    "plt.plot(K, inertias, 'bx-') \n",
    "plt.xlabel('Values of K') \n",
    "plt.ylabel('Inertia') \n",
    "plt.title('The Elbow Method using Inertia') \n",
    "plt.show() "
   ]
  },
  {
   "cell_type": "markdown",
   "metadata": {},
   "source": [
    "The optimal value of  k = 2"
   ]
  },
  {
   "cell_type": "code",
   "execution_count": 146,
   "metadata": {},
   "outputs": [],
   "source": [
    "kmeanModel = KMeans(n_clusters=2).fit(X) \n",
    "labels = kmeanModel.labels_"
   ]
  },
  {
   "cell_type": "code",
   "execution_count": 147,
   "metadata": {},
   "outputs": [],
   "source": [
    "ret[\"cluster\"] = labels"
   ]
  },
  {
   "cell_type": "code",
   "execution_count": 148,
   "metadata": {},
   "outputs": [
    {
     "data": {
      "text/html": [
       "<div>\n",
       "<style scoped>\n",
       "    .dataframe tbody tr th:only-of-type {\n",
       "        vertical-align: middle;\n",
       "    }\n",
       "\n",
       "    .dataframe tbody tr th {\n",
       "        vertical-align: top;\n",
       "    }\n",
       "\n",
       "    .dataframe thead th {\n",
       "        text-align: right;\n",
       "    }\n",
       "</style>\n",
       "<table border=\"1\" class=\"dataframe\">\n",
       "  <thead>\n",
       "    <tr style=\"text-align: right;\">\n",
       "      <th></th>\n",
       "      <th>Returns</th>\n",
       "      <th>Volatility</th>\n",
       "      <th>cluster</th>\n",
       "    </tr>\n",
       "  </thead>\n",
       "  <tbody>\n",
       "    <tr>\n",
       "      <th>ASHOKA</th>\n",
       "      <td>-0.208509</td>\n",
       "      <td>0.442974</td>\n",
       "      <td>0</td>\n",
       "    </tr>\n",
       "    <tr>\n",
       "      <th>BAJAJELEC</th>\n",
       "      <td>0.316053</td>\n",
       "      <td>0.402414</td>\n",
       "      <td>0</td>\n",
       "    </tr>\n",
       "    <tr>\n",
       "      <th>BOMDYEING</th>\n",
       "      <td>0.327621</td>\n",
       "      <td>0.602869</td>\n",
       "      <td>0</td>\n",
       "    </tr>\n",
       "    <tr>\n",
       "      <th>CENTURYPLY</th>\n",
       "      <td>-0.182338</td>\n",
       "      <td>0.375269</td>\n",
       "      <td>0</td>\n",
       "    </tr>\n",
       "    <tr>\n",
       "      <th>FORTIS</th>\n",
       "      <td>-0.137297</td>\n",
       "      <td>0.421483</td>\n",
       "      <td>0</td>\n",
       "    </tr>\n",
       "  </tbody>\n",
       "</table>\n",
       "</div>"
      ],
      "text/plain": [
       "             Returns  Volatility  cluster\n",
       "ASHOKA     -0.208509    0.442974        0\n",
       "BAJAJELEC   0.316053    0.402414        0\n",
       "BOMDYEING   0.327621    0.602869        0\n",
       "CENTURYPLY -0.182338    0.375269        0\n",
       "FORTIS     -0.137297    0.421483        0"
      ]
     },
     "execution_count": 148,
     "metadata": {},
     "output_type": "execute_result"
    }
   ],
   "source": [
    "ret.head()"
   ]
  },
  {
   "cell_type": "code",
   "execution_count": 149,
   "metadata": {},
   "outputs": [
    {
     "data": {
      "text/plain": [
       "array([[-0.03868493,  0.40971703],\n",
       "       [27.85158723,  8.42419659]])"
      ]
     },
     "execution_count": 149,
     "metadata": {},
     "output_type": "execute_result"
    }
   ],
   "source": [
    "centers = kmeanModel.cluster_centers_\n",
    "centers"
   ]
  },
  {
   "cell_type": "code",
   "execution_count": 150,
   "metadata": {},
   "outputs": [
    {
     "data": {
      "text/plain": [
       "array([0, 0, 0, 0, 0, 0, 0, 0, 0, 0, 1, 0, 0, 0, 0, 0, 0, 0, 0, 0, 0, 0,\n",
       "       0, 0, 0, 0, 0, 0, 0, 0])"
      ]
     },
     "execution_count": 150,
     "metadata": {},
     "output_type": "execute_result"
    }
   ],
   "source": [
    "labels"
   ]
  },
  {
   "cell_type": "code",
   "execution_count": 151,
   "metadata": {},
   "outputs": [],
   "source": [
    "#plt.scatter(ret[\"Returns\"], ret[\"Volatility\"], c=labels, s=200, cmap='viridis')\n",
    "#plt.scatter(centers[:, 0], centers[:, 1], c='red', s=20, alpha=0.5)"
   ]
  },
  {
   "cell_type": "markdown",
   "metadata": {},
   "source": [
    "This one data point seems like an outlier, you can remove it."
   ]
  },
  {
   "cell_type": "code",
   "execution_count": 152,
   "metadata": {},
   "outputs": [],
   "source": [
    "import seaborn as sns"
   ]
  },
  {
   "cell_type": "code",
   "execution_count": 153,
   "metadata": {},
   "outputs": [
    {
     "data": {
      "image/png": "[encoded data removed]",
      "text/plain": [
       "<Figure size 432x288 with 1 Axes>"
      ]
     },
     "metadata": {
      "needs_background": "light"
     },
     "output_type": "display_data"
    }
   ],
   "source": [
    "companies = list(ret.index)\n",
    "ax = sns.scatterplot(x=\"Returns\", y=\"Volatility\", hue=labels, data=ret)\n",
    "for i, txt in enumerate(companies):\n",
    "    ax.annotate(txt, (ret.Returns[i], ret.Volatility[i]))"
   ]
  },
  {
   "cell_type": "markdown",
   "metadata": {},
   "source": [
    "Remove DHFL , it is an outlier"
   ]
  },
  {
   "cell_type": "code",
   "execution_count": 154,
   "metadata": {},
   "outputs": [],
   "source": [
    "#get index number of DHFL\n",
    "ret = ret.drop(\"DHFL\")"
   ]
  },
  {
   "cell_type": "code",
   "execution_count": 156,
   "metadata": {},
   "outputs": [
    {
     "data": {
      "image/png": "[encoded data removed]",
      "text/plain": [
       "<Figure size 432x288 with 1 Axes>"
      ]
     },
     "metadata": {
      "needs_background": "light"
     },
     "output_type": "display_data"
    }
   ],
   "source": [
    "companies = list(ret.index)\n",
    "ax = sns.scatterplot(x=\"Returns\", y=\"Volatility\", hue=ret[\"cluster\"], data=ret)\n",
    "for i, txt in enumerate(companies):\n",
    "    ax.annotate(txt, (ret.Returns[i], ret.Volatility[i]))"
   ]
  },
  {
   "cell_type": "code",
   "execution_count": 158,
   "metadata": {},
   "outputs": [
    {
     "data": {
      "text/html": [
       "<div>\n",
       "<style scoped>\n",
       "    .dataframe tbody tr th:only-of-type {\n",
       "        vertical-align: middle;\n",
       "    }\n",
       "\n",
       "    .dataframe tbody tr th {\n",
       "        vertical-align: top;\n",
       "    }\n",
       "\n",
       "    .dataframe thead th {\n",
       "        text-align: right;\n",
       "    }\n",
       "</style>\n",
       "<table border=\"1\" class=\"dataframe\">\n",
       "  <thead>\n",
       "    <tr style=\"text-align: right;\">\n",
       "      <th></th>\n",
       "      <th>Returns</th>\n",
       "      <th>Volatility</th>\n",
       "      <th>cluster</th>\n",
       "    </tr>\n",
       "  </thead>\n",
       "  <tbody>\n",
       "    <tr>\n",
       "      <th>ASHOKA</th>\n",
       "      <td>-0.208509</td>\n",
       "      <td>0.442974</td>\n",
       "      <td>0</td>\n",
       "    </tr>\n",
       "    <tr>\n",
       "      <th>BAJAJELEC</th>\n",
       "      <td>0.316053</td>\n",
       "      <td>0.402414</td>\n",
       "      <td>0</td>\n",
       "    </tr>\n",
       "    <tr>\n",
       "      <th>BOMDYEING</th>\n",
       "      <td>0.327621</td>\n",
       "      <td>0.602869</td>\n",
       "      <td>0</td>\n",
       "    </tr>\n",
       "    <tr>\n",
       "      <th>CENTURYPLY</th>\n",
       "      <td>-0.182338</td>\n",
       "      <td>0.375269</td>\n",
       "      <td>0</td>\n",
       "    </tr>\n",
       "    <tr>\n",
       "      <th>FORTIS</th>\n",
       "      <td>-0.137297</td>\n",
       "      <td>0.421483</td>\n",
       "      <td>0</td>\n",
       "    </tr>\n",
       "    <tr>\n",
       "      <th>IDFC</th>\n",
       "      <td>-0.200489</td>\n",
       "      <td>0.353990</td>\n",
       "      <td>0</td>\n",
       "    </tr>\n",
       "    <tr>\n",
       "      <th>NCC</th>\n",
       "      <td>0.077142</td>\n",
       "      <td>0.441393</td>\n",
       "      <td>0</td>\n",
       "    </tr>\n",
       "    <tr>\n",
       "      <th>PVR</th>\n",
       "      <td>0.108530</td>\n",
       "      <td>0.310191</td>\n",
       "      <td>0</td>\n",
       "    </tr>\n",
       "    <tr>\n",
       "      <th>RAYMOND</th>\n",
       "      <td>0.070021</td>\n",
       "      <td>0.363834</td>\n",
       "      <td>0</td>\n",
       "    </tr>\n",
       "    <tr>\n",
       "      <th>RCOM</th>\n",
       "      <td>-0.881729</td>\n",
       "      <td>0.985366</td>\n",
       "      <td>0</td>\n",
       "    </tr>\n",
       "    <tr>\n",
       "      <th>IDBI</th>\n",
       "      <td>-0.296008</td>\n",
       "      <td>0.453787</td>\n",
       "      <td>0</td>\n",
       "    </tr>\n",
       "    <tr>\n",
       "      <th>IGL</th>\n",
       "      <td>-0.131762</td>\n",
       "      <td>0.651128</td>\n",
       "      <td>0</td>\n",
       "    </tr>\n",
       "    <tr>\n",
       "      <th>PNB</th>\n",
       "      <td>-0.239440</td>\n",
       "      <td>0.545390</td>\n",
       "      <td>0</td>\n",
       "    </tr>\n",
       "    <tr>\n",
       "      <th>SUNTV</th>\n",
       "      <td>-0.205704</td>\n",
       "      <td>0.365414</td>\n",
       "      <td>0</td>\n",
       "    </tr>\n",
       "    <tr>\n",
       "      <th>TATACHEM</th>\n",
       "      <td>0.002191</td>\n",
       "      <td>0.246859</td>\n",
       "      <td>0</td>\n",
       "    </tr>\n",
       "    <tr>\n",
       "      <th>TATAPOWER</th>\n",
       "      <td>-0.090950</td>\n",
       "      <td>0.308297</td>\n",
       "      <td>0</td>\n",
       "    </tr>\n",
       "    <tr>\n",
       "      <th>VOLTAS</th>\n",
       "      <td>0.191030</td>\n",
       "      <td>0.308346</td>\n",
       "      <td>0</td>\n",
       "    </tr>\n",
       "    <tr>\n",
       "      <th>CASTROLIND</th>\n",
       "      <td>-0.434557</td>\n",
       "      <td>0.446466</td>\n",
       "      <td>0</td>\n",
       "    </tr>\n",
       "    <tr>\n",
       "      <th>MINDTREE</th>\n",
       "      <td>0.392570</td>\n",
       "      <td>0.341485</td>\n",
       "      <td>0</td>\n",
       "    </tr>\n",
       "    <tr>\n",
       "      <th>ASIANPAINT</th>\n",
       "      <td>0.101249</td>\n",
       "      <td>0.209406</td>\n",
       "      <td>0</td>\n",
       "    </tr>\n",
       "    <tr>\n",
       "      <th>AXISBANK</th>\n",
       "      <td>0.235246</td>\n",
       "      <td>0.277896</td>\n",
       "      <td>0</td>\n",
       "    </tr>\n",
       "    <tr>\n",
       "      <th>BPCL</th>\n",
       "      <td>-0.250364</td>\n",
       "      <td>0.436175</td>\n",
       "      <td>0</td>\n",
       "    </tr>\n",
       "    <tr>\n",
       "      <th>CIPLA</th>\n",
       "      <td>0.021976</td>\n",
       "      <td>0.254183</td>\n",
       "      <td>0</td>\n",
       "    </tr>\n",
       "    <tr>\n",
       "      <th>INFY</th>\n",
       "      <td>-0.022672</td>\n",
       "      <td>0.418963</td>\n",
       "      <td>0</td>\n",
       "    </tr>\n",
       "    <tr>\n",
       "      <th>IOC</th>\n",
       "      <td>-0.396386</td>\n",
       "      <td>0.499514</td>\n",
       "      <td>0</td>\n",
       "    </tr>\n",
       "    <tr>\n",
       "      <th>ITC</th>\n",
       "      <td>0.064014</td>\n",
       "      <td>0.223863</td>\n",
       "      <td>0</td>\n",
       "    </tr>\n",
       "    <tr>\n",
       "      <th>TCS</th>\n",
       "      <td>0.080470</td>\n",
       "      <td>0.431387</td>\n",
       "      <td>0</td>\n",
       "    </tr>\n",
       "    <tr>\n",
       "      <th>TITAN</th>\n",
       "      <td>0.473109</td>\n",
       "      <td>0.324361</td>\n",
       "      <td>0</td>\n",
       "    </tr>\n",
       "    <tr>\n",
       "      <th>RELIANCE</th>\n",
       "      <td>0.095121</td>\n",
       "      <td>0.439091</td>\n",
       "      <td>0</td>\n",
       "    </tr>\n",
       "  </tbody>\n",
       "</table>\n",
       "</div>"
      ],
      "text/plain": [
       "             Returns  Volatility  cluster\n",
       "ASHOKA     -0.208509    0.442974        0\n",
       "BAJAJELEC   0.316053    0.402414        0\n",
       "BOMDYEING   0.327621    0.602869        0\n",
       "CENTURYPLY -0.182338    0.375269        0\n",
       "FORTIS     -0.137297    0.421483        0\n",
       "IDFC       -0.200489    0.353990        0\n",
       "NCC         0.077142    0.441393        0\n",
       "PVR         0.108530    0.310191        0\n",
       "RAYMOND     0.070021    0.363834        0\n",
       "RCOM       -0.881729    0.985366        0\n",
       "IDBI       -0.296008    0.453787        0\n",
       "IGL        -0.131762    0.651128        0\n",
       "PNB        -0.239440    0.545390        0\n",
       "SUNTV      -0.205704    0.365414        0\n",
       "TATACHEM    0.002191    0.246859        0\n",
       "TATAPOWER  -0.090950    0.308297        0\n",
       "VOLTAS      0.191030    0.308346        0\n",
       "CASTROLIND -0.434557    0.446466        0\n",
       "MINDTREE    0.392570    0.341485        0\n",
       "ASIANPAINT  0.101249    0.209406        0\n",
       "AXISBANK    0.235246    0.277896        0\n",
       "BPCL       -0.250364    0.436175        0\n",
       "CIPLA       0.021976    0.254183        0\n",
       "INFY       -0.022672    0.418963        0\n",
       "IOC        -0.396386    0.499514        0\n",
       "ITC         0.064014    0.223863        0\n",
       "TCS         0.080470    0.431387        0\n",
       "TITAN       0.473109    0.324361        0\n",
       "RELIANCE    0.095121    0.439091        0"
      ]
     },
     "execution_count": 158,
     "metadata": {},
     "output_type": "execute_result"
    }
   ],
   "source": [
    "ret"
   ]
  },
  {
   "cell_type": "code",
   "execution_count": null,
   "metadata": {},
   "outputs": [],
   "source": []
  }
 ],
 "metadata": {
  "kernelspec": {
   "display_name": "Python 3",
   "language": "python",
   "name": "python3"
  },
  "language_info": {
   "codemirror_mode": {
    "name": "ipython",
    "version": 3
   },
   "file_extension": ".py",
   "mimetype": "text/x-python",
   "name": "python",
   "nbconvert_exporter": "python",
   "pygments_lexer": "ipython3",
   "version": "3.7.6"
  }
 },
 "nbformat": 4,
 "nbformat_minor": 4
}
