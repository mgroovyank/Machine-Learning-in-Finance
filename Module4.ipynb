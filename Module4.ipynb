{
 "cells": [
  {
   "cell_type": "code",
   "execution_count": 2,
   "metadata": {},
   "outputs": [],
   "source": [
    "import pandas as pd\n",
    "import numpy as np\n",
    "import matplotlib.pyplot as plt\n",
    "import seaborn as sns"
   ]
  },
  {
   "cell_type": "code",
   "execution_count": 3,
   "metadata": {},
   "outputs": [],
   "source": [
    "data = pd.read_csv(\"week3.csv\")"
   ]
  },
  {
   "cell_type": "code",
   "execution_count": 4,
   "metadata": {},
   "outputs": [],
   "source": [
    "data['Date'] = pd.to_datetime(data.Date)\n",
    "data.sort_values(by = \"Date\", ascending = False, inplace = True)\n",
    "data.set_index(\"Date\", inplace=True)"
   ]
  },
  {
   "cell_type": "code",
   "execution_count": 5,
   "metadata": {},
   "outputs": [
    {
     "data": {
      "text/html": [
       "<div>\n",
       "<style scoped>\n",
       "    .dataframe tbody tr th:only-of-type {\n",
       "        vertical-align: middle;\n",
       "    }\n",
       "\n",
       "    .dataframe tbody tr th {\n",
       "        vertical-align: top;\n",
       "    }\n",
       "\n",
       "    .dataframe thead th {\n",
       "        text-align: right;\n",
       "    }\n",
       "</style>\n",
       "<table border=\"1\" class=\"dataframe\">\n",
       "  <thead>\n",
       "    <tr style=\"text-align: right;\">\n",
       "      <th></th>\n",
       "      <th>Close Price</th>\n",
       "      <th>Open Price</th>\n",
       "      <th>High Price</th>\n",
       "      <th>Low Price</th>\n",
       "      <th>Total Traded Quantity</th>\n",
       "      <th>Month</th>\n",
       "      <th>Year</th>\n",
       "      <th>Volume</th>\n",
       "      <th>VWAP</th>\n",
       "      <th>Day_Perc_Change</th>\n",
       "      <th>Trend</th>\n",
       "      <th>Avg_Trend</th>\n",
       "      <th>Median_Trend</th>\n",
       "      <th>SME20</th>\n",
       "      <th>BOLU</th>\n",
       "      <th>BOLD</th>\n",
       "      <th>TP</th>\n",
       "    </tr>\n",
       "    <tr>\n",
       "      <th>Date</th>\n",
       "      <th></th>\n",
       "      <th></th>\n",
       "      <th></th>\n",
       "      <th></th>\n",
       "      <th></th>\n",
       "      <th></th>\n",
       "      <th></th>\n",
       "      <th></th>\n",
       "      <th></th>\n",
       "      <th></th>\n",
       "      <th></th>\n",
       "      <th></th>\n",
       "      <th></th>\n",
       "      <th></th>\n",
       "      <th></th>\n",
       "      <th></th>\n",
       "      <th></th>\n",
       "    </tr>\n",
       "  </thead>\n",
       "  <tbody>\n",
       "    <tr>\n",
       "      <th>2019-10-24</th>\n",
       "      <td>139.94</td>\n",
       "      <td>139.14</td>\n",
       "      <td>140.40</td>\n",
       "      <td>138.69</td>\n",
       "      <td>37.28M</td>\n",
       "      <td>10</td>\n",
       "      <td>2019</td>\n",
       "      <td>37.2</td>\n",
       "      <td>139.940000</td>\n",
       "      <td>0.028668</td>\n",
       "      <td>Slight or No Change</td>\n",
       "      <td>28.28247</td>\n",
       "      <td>25.7</td>\n",
       "      <td>1930.63</td>\n",
       "      <td>2398.925509</td>\n",
       "      <td>1462.334491</td>\n",
       "      <td>139.676667</td>\n",
       "    </tr>\n",
       "    <tr>\n",
       "      <th>2019-10-23</th>\n",
       "      <td>137.24</td>\n",
       "      <td>136.88</td>\n",
       "      <td>137.45</td>\n",
       "      <td>135.61</td>\n",
       "      <td>31.38M</td>\n",
       "      <td>10</td>\n",
       "      <td>2019</td>\n",
       "      <td>31.3</td>\n",
       "      <td>138.706277</td>\n",
       "      <td>-0.019294</td>\n",
       "      <td>Slight or No Change</td>\n",
       "      <td>28.28247</td>\n",
       "      <td>25.7</td>\n",
       "      <td>1926.80</td>\n",
       "      <td>2395.095509</td>\n",
       "      <td>1458.504491</td>\n",
       "      <td>136.766667</td>\n",
       "    </tr>\n",
       "    <tr>\n",
       "      <th>2019-10-22</th>\n",
       "      <td>136.37</td>\n",
       "      <td>138.97</td>\n",
       "      <td>140.01</td>\n",
       "      <td>136.26</td>\n",
       "      <td>27.94M</td>\n",
       "      <td>10</td>\n",
       "      <td>2019</td>\n",
       "      <td>27.9</td>\n",
       "      <td>138.030114</td>\n",
       "      <td>-0.006339</td>\n",
       "      <td>Slight or No Change</td>\n",
       "      <td>28.28247</td>\n",
       "      <td>25.7</td>\n",
       "      <td>1924.65</td>\n",
       "      <td>2392.945509</td>\n",
       "      <td>1456.354491</td>\n",
       "      <td>137.546667</td>\n",
       "    </tr>\n",
       "    <tr>\n",
       "      <th>2019-10-21</th>\n",
       "      <td>138.43</td>\n",
       "      <td>138.45</td>\n",
       "      <td>138.50</td>\n",
       "      <td>137.01</td>\n",
       "      <td>20.72M</td>\n",
       "      <td>10</td>\n",
       "      <td>2019</td>\n",
       "      <td>20.7</td>\n",
       "      <td>138.100803</td>\n",
       "      <td>0.015106</td>\n",
       "      <td>Slight or No Change</td>\n",
       "      <td>28.28247</td>\n",
       "      <td>25.7</td>\n",
       "      <td>1925.69</td>\n",
       "      <td>2393.985509</td>\n",
       "      <td>1457.394491</td>\n",
       "      <td>137.980000</td>\n",
       "    </tr>\n",
       "    <tr>\n",
       "      <th>2019-10-18</th>\n",
       "      <td>137.41</td>\n",
       "      <td>139.76</td>\n",
       "      <td>140.00</td>\n",
       "      <td>136.56</td>\n",
       "      <td>32.28M</td>\n",
       "      <td>10</td>\n",
       "      <td>2019</td>\n",
       "      <td>32.2</td>\n",
       "      <td>137.951815</td>\n",
       "      <td>-0.007368</td>\n",
       "      <td>Slight or No Change</td>\n",
       "      <td>28.28247</td>\n",
       "      <td>25.7</td>\n",
       "      <td>1926.77</td>\n",
       "      <td>2395.065509</td>\n",
       "      <td>1458.474491</td>\n",
       "      <td>137.990000</td>\n",
       "    </tr>\n",
       "  </tbody>\n",
       "</table>\n",
       "</div>"
      ],
      "text/plain": [
       "            Close Price  Open Price  High Price  Low Price  \\\n",
       "Date                                                         \n",
       "2019-10-24       139.94      139.14      140.40     138.69   \n",
       "2019-10-23       137.24      136.88      137.45     135.61   \n",
       "2019-10-22       136.37      138.97      140.01     136.26   \n",
       "2019-10-21       138.43      138.45      138.50     137.01   \n",
       "2019-10-18       137.41      139.76      140.00     136.56   \n",
       "\n",
       "           Total Traded Quantity  Month  Year  Volume        VWAP  \\\n",
       "Date                                                                \n",
       "2019-10-24                37.28M     10  2019    37.2  139.940000   \n",
       "2019-10-23                31.38M     10  2019    31.3  138.706277   \n",
       "2019-10-22                27.94M     10  2019    27.9  138.030114   \n",
       "2019-10-21                20.72M     10  2019    20.7  138.100803   \n",
       "2019-10-18                32.28M     10  2019    32.2  137.951815   \n",
       "\n",
       "            Day_Perc_Change                Trend  Avg_Trend  Median_Trend  \\\n",
       "Date                                                                        \n",
       "2019-10-24         0.028668  Slight or No Change   28.28247          25.7   \n",
       "2019-10-23        -0.019294  Slight or No Change   28.28247          25.7   \n",
       "2019-10-22        -0.006339  Slight or No Change   28.28247          25.7   \n",
       "2019-10-21         0.015106  Slight or No Change   28.28247          25.7   \n",
       "2019-10-18        -0.007368  Slight or No Change   28.28247          25.7   \n",
       "\n",
       "              SME20         BOLU         BOLD          TP  \n",
       "Date                                                       \n",
       "2019-10-24  1930.63  2398.925509  1462.334491  139.676667  \n",
       "2019-10-23  1926.80  2395.095509  1458.504491  136.766667  \n",
       "2019-10-22  1924.65  2392.945509  1456.354491  137.546667  \n",
       "2019-10-21  1925.69  2393.985509  1457.394491  137.980000  \n",
       "2019-10-18  1926.77  2395.065509  1458.474491  137.990000  "
      ]
     },
     "execution_count": 5,
     "metadata": {},
     "output_type": "execute_result"
    }
   ],
   "source": [
    "data.head()"
   ]
  },
  {
   "cell_type": "code",
   "execution_count": 6,
   "metadata": {},
   "outputs": [],
   "source": [
    "def set_call(row):\n",
    "    stock = row[\"Close Price\"]\n",
    "    bold = row.BOLD\n",
    "    sme = row.SME20\n",
    "    bolu = row.BOLU\n",
    "    if stock<bold:\n",
    "        return \"Buy\"\n",
    "    elif stock>row.BOLD and stock<sme:\n",
    "        return \"Hold Buy/ Liquidate Short\"\n",
    "    elif stock>sme and stock<bolu:\n",
    "        return \"Hold Short/ Liquidate Buy\"\n",
    "    else:\n",
    "        return \"Short\"\n",
    "data[\"Call\"] = data.apply(set_call, axis=1)"
   ]
  },
  {
   "cell_type": "code",
   "execution_count": 7,
   "metadata": {},
   "outputs": [],
   "source": [
    "data.dropna(inplace=True)"
   ]
  },
  {
   "cell_type": "code",
   "execution_count": 8,
   "metadata": {},
   "outputs": [],
   "source": [
    "import sklearn\n",
    "from sklearn.model_selection import train_test_split\n",
    "from sklearn.metrics import confusion_matrix \n",
    "from sklearn.tree import DecisionTreeClassifier \n",
    "from sklearn.svm import SVC"
   ]
  },
  {
   "cell_type": "code",
   "execution_count": 9,
   "metadata": {},
   "outputs": [],
   "source": [
    "X = []  \n",
    "y = []\n",
    "for idx, row in data.iterrows(): \n",
    "    my_list =[row[\"Close Price\"], row.BOLD, row.SME20, row.BOLU] \n",
    "    y.append(row.Call)\n",
    "    X.append(my_list) "
   ]
  },
  {
   "cell_type": "code",
   "execution_count": 10,
   "metadata": {},
   "outputs": [],
   "source": [
    "my_dict = {}\n",
    "my_dict[\"Buy\"] = 0\n",
    "my_dict[\"Hold Buy/ Liquidate Short\"] = 1\n",
    "my_dict[\"Hold Short/ Liquidate Buy\"] = 2\n",
    "my_dict[\"Short\"] = 3\n",
    "y_encoded = []\n",
    "for i in y:\n",
    "    y_encoded.append(my_dict[i])"
   ]
  },
  {
   "cell_type": "code",
   "execution_count": 11,
   "metadata": {},
   "outputs": [],
   "source": [
    "X_train, X_test, y_train, y_test = train_test_split(X, y_encoded)\n",
    "model = DecisionTreeClassifier(max_depth = 2).fit(X_train, y_train) \n",
    "y_pred = model.predict(X_test)"
   ]
  },
  {
   "cell_type": "code",
   "execution_count": 12,
   "metadata": {},
   "outputs": [
    {
     "data": {
      "text/plain": [
       "1.0"
      ]
     },
     "execution_count": 12,
     "metadata": {},
     "output_type": "execute_result"
    }
   ],
   "source": [
    "np.sum(y_pred == y_test)/len(y_test)"
   ]
  },
  {
   "cell_type": "code",
   "execution_count": 13,
   "metadata": {},
   "outputs": [],
   "source": [
    "data = pd.read_csv(\"./MID_CAP/DHFL.csv\")"
   ]
  },
  {
   "cell_type": "code",
   "execution_count": 14,
   "metadata": {},
   "outputs": [
    {
     "data": {
      "text/html": [
       "<div>\n",
       "<style scoped>\n",
       "    .dataframe tbody tr th:only-of-type {\n",
       "        vertical-align: middle;\n",
       "    }\n",
       "\n",
       "    .dataframe tbody tr th {\n",
       "        vertical-align: top;\n",
       "    }\n",
       "\n",
       "    .dataframe thead th {\n",
       "        text-align: right;\n",
       "    }\n",
       "</style>\n",
       "<table border=\"1\" class=\"dataframe\">\n",
       "  <thead>\n",
       "    <tr style=\"text-align: right;\">\n",
       "      <th></th>\n",
       "      <th>Symbol</th>\n",
       "      <th>Series</th>\n",
       "      <th>Date</th>\n",
       "      <th>Prev Close</th>\n",
       "      <th>Open Price</th>\n",
       "      <th>High Price</th>\n",
       "      <th>Low Price</th>\n",
       "      <th>Last Price</th>\n",
       "      <th>Close Price</th>\n",
       "      <th>Average Price</th>\n",
       "      <th>Total Traded Quantity</th>\n",
       "      <th>Turnover</th>\n",
       "      <th>No. of Trades</th>\n",
       "      <th>Deliverable Qty</th>\n",
       "      <th>% Dly Qt to Traded Qty</th>\n",
       "    </tr>\n",
       "  </thead>\n",
       "  <tbody>\n",
       "    <tr>\n",
       "      <th>0</th>\n",
       "      <td>DHFL</td>\n",
       "      <td>EQ</td>\n",
       "      <td>15-May-2017</td>\n",
       "      <td>426.65</td>\n",
       "      <td>429.5</td>\n",
       "      <td>434.4</td>\n",
       "      <td>427.05</td>\n",
       "      <td>431.0</td>\n",
       "      <td>431.4</td>\n",
       "      <td>430.94</td>\n",
       "      <td>1160661</td>\n",
       "      <td>500175906.3</td>\n",
       "      <td>15111</td>\n",
       "      <td>295581</td>\n",
       "      <td>25.47</td>\n",
       "    </tr>\n",
       "    <tr>\n",
       "      <th>1</th>\n",
       "      <td>DHFL</td>\n",
       "      <td>N6</td>\n",
       "      <td>15-May-2017</td>\n",
       "      <td>1007.25</td>\n",
       "      <td>1009.9</td>\n",
       "      <td>1009.9</td>\n",
       "      <td>1009.90</td>\n",
       "      <td>1009.9</td>\n",
       "      <td>1009.9</td>\n",
       "      <td>1009.90</td>\n",
       "      <td>50</td>\n",
       "      <td>50495.0</td>\n",
       "      <td>1</td>\n",
       "      <td>50</td>\n",
       "      <td>100.00</td>\n",
       "    </tr>\n",
       "    <tr>\n",
       "      <th>2</th>\n",
       "      <td>DHFL</td>\n",
       "      <td>N8</td>\n",
       "      <td>15-May-2017</td>\n",
       "      <td>1055.00</td>\n",
       "      <td>1055.2</td>\n",
       "      <td>1055.2</td>\n",
       "      <td>1055.20</td>\n",
       "      <td>1055.2</td>\n",
       "      <td>1055.2</td>\n",
       "      <td>1055.20</td>\n",
       "      <td>48</td>\n",
       "      <td>50649.6</td>\n",
       "      <td>2</td>\n",
       "      <td>48</td>\n",
       "      <td>100.00</td>\n",
       "    </tr>\n",
       "    <tr>\n",
       "      <th>3</th>\n",
       "      <td>DHFL</td>\n",
       "      <td>NaN</td>\n",
       "      <td>15-May-2017</td>\n",
       "      <td>1070.00</td>\n",
       "      <td>1070.0</td>\n",
       "      <td>1070.0</td>\n",
       "      <td>1070.00</td>\n",
       "      <td>1070.0</td>\n",
       "      <td>1070.0</td>\n",
       "      <td>1070.00</td>\n",
       "      <td>1</td>\n",
       "      <td>1070.0</td>\n",
       "      <td>1</td>\n",
       "      <td>1</td>\n",
       "      <td>100.00</td>\n",
       "    </tr>\n",
       "    <tr>\n",
       "      <th>4</th>\n",
       "      <td>DHFL</td>\n",
       "      <td>NB</td>\n",
       "      <td>15-May-2017</td>\n",
       "      <td>1040.00</td>\n",
       "      <td>1050.0</td>\n",
       "      <td>1050.0</td>\n",
       "      <td>1050.00</td>\n",
       "      <td>1050.0</td>\n",
       "      <td>1050.0</td>\n",
       "      <td>1050.00</td>\n",
       "      <td>6</td>\n",
       "      <td>6300.0</td>\n",
       "      <td>1</td>\n",
       "      <td>6</td>\n",
       "      <td>100.00</td>\n",
       "    </tr>\n",
       "  </tbody>\n",
       "</table>\n",
       "</div>"
      ],
      "text/plain": [
       "  Symbol Series         Date  Prev Close  Open Price  High Price  Low Price  \\\n",
       "0   DHFL     EQ  15-May-2017      426.65       429.5       434.4     427.05   \n",
       "1   DHFL     N6  15-May-2017     1007.25      1009.9      1009.9    1009.90   \n",
       "2   DHFL     N8  15-May-2017     1055.00      1055.2      1055.2    1055.20   \n",
       "3   DHFL    NaN  15-May-2017     1070.00      1070.0      1070.0    1070.00   \n",
       "4   DHFL     NB  15-May-2017     1040.00      1050.0      1050.0    1050.00   \n",
       "\n",
       "   Last Price  Close Price  Average Price  Total Traded Quantity     Turnover  \\\n",
       "0       431.0        431.4         430.94                1160661  500175906.3   \n",
       "1      1009.9       1009.9        1009.90                     50      50495.0   \n",
       "2      1055.2       1055.2        1055.20                     48      50649.6   \n",
       "3      1070.0       1070.0        1070.00                      1       1070.0   \n",
       "4      1050.0       1050.0        1050.00                      6       6300.0   \n",
       "\n",
       "   No. of Trades  Deliverable Qty  % Dly Qt to Traded Qty  \n",
       "0          15111           295581                   25.47  \n",
       "1              1               50                  100.00  \n",
       "2              2               48                  100.00  \n",
       "3              1                1                  100.00  \n",
       "4              1                6                  100.00  "
      ]
     },
     "execution_count": 14,
     "metadata": {},
     "output_type": "execute_result"
    }
   ],
   "source": [
    "data.head()"
   ]
  },
  {
   "cell_type": "code",
   "execution_count": 15,
   "metadata": {},
   "outputs": [],
   "source": [
    "data[\"SME20\"] = data[\"Close Price\"].rolling(14).sum()\n",
    "std = data[\"SME20\"].std()\n",
    "data[\"BOLU\"] = data[\"SME20\"] + 2*std\n",
    "data[\"BOLD\"] = data[\"SME20\"] - 2*std\n",
    "data[\"TP\"] = (data[\"High Price\"] + data[\"Low Price\"] + data[\"Close Price\"]) / 3"
   ]
  },
  {
   "cell_type": "code",
   "execution_count": 16,
   "metadata": {},
   "outputs": [],
   "source": [
    "data.dropna(inplace=True)"
   ]
  },
  {
   "cell_type": "code",
   "execution_count": 17,
   "metadata": {},
   "outputs": [],
   "source": [
    "X = []  \n",
    "for idx, row in data.iterrows(): \n",
    "    my_list =[row[\"Close Price\"], row.BOLD, row.SME20, row.BOLU] \n",
    "    X.append(my_list) "
   ]
  },
  {
   "cell_type": "code",
   "execution_count": 18,
   "metadata": {},
   "outputs": [],
   "source": [
    "y_pred = model.predict(X)"
   ]
  },
  {
   "cell_type": "code",
   "execution_count": 19,
   "metadata": {},
   "outputs": [
    {
     "data": {
      "text/plain": [
       "array([0, 0, 0, ..., 0, 0, 0])"
      ]
     },
     "execution_count": 19,
     "metadata": {},
     "output_type": "execute_result"
    }
   ],
   "source": [
    "y_pred"
   ]
  },
  {
   "cell_type": "code",
   "execution_count": 20,
   "metadata": {},
   "outputs": [],
   "source": [
    "calls = []"
   ]
  },
  {
   "cell_type": "code",
   "execution_count": 21,
   "metadata": {},
   "outputs": [],
   "source": [
    "for p in y_pred:\n",
    "    if p == 0:\n",
    "        calls.append(\"Buy\")\n",
    "    elif p==1:\n",
    "        calls.append(\"Hold Buy/ Liquidate Short\")\n",
    "    elif p==2:\n",
    "        calls.append(\"Hold Short/ Liquidate Buy\")\n",
    "    elif p==3:\n",
    "        calls.append(\"Short\")\n",
    "    "
   ]
  },
  {
   "cell_type": "code",
   "execution_count": 22,
   "metadata": {},
   "outputs": [],
   "source": [
    "data[\"Call\"] = calls"
   ]
  },
  {
   "cell_type": "code",
   "execution_count": 23,
   "metadata": {},
   "outputs": [],
   "source": [
    "data = pd.read_csv(\"./Large_Cap/RELIANCE.csv\")"
   ]
  },
  {
   "cell_type": "code",
   "execution_count": 24,
   "metadata": {},
   "outputs": [
    {
     "data": {
      "text/html": [
       "<div>\n",
       "<style scoped>\n",
       "    .dataframe tbody tr th:only-of-type {\n",
       "        vertical-align: middle;\n",
       "    }\n",
       "\n",
       "    .dataframe tbody tr th {\n",
       "        vertical-align: top;\n",
       "    }\n",
       "\n",
       "    .dataframe thead th {\n",
       "        text-align: right;\n",
       "    }\n",
       "</style>\n",
       "<table border=\"1\" class=\"dataframe\">\n",
       "  <thead>\n",
       "    <tr style=\"text-align: right;\">\n",
       "      <th></th>\n",
       "      <th>Symbol</th>\n",
       "      <th>Series</th>\n",
       "      <th>Date</th>\n",
       "      <th>Prev Close</th>\n",
       "      <th>Open Price</th>\n",
       "      <th>High Price</th>\n",
       "      <th>Low Price</th>\n",
       "      <th>Last Price</th>\n",
       "      <th>Close Price</th>\n",
       "      <th>Average Price</th>\n",
       "      <th>Total Traded Quantity</th>\n",
       "      <th>Turnover</th>\n",
       "      <th>No. of Trades</th>\n",
       "      <th>Deliverable Qty</th>\n",
       "      <th>% Dly Qt to Traded Qty</th>\n",
       "    </tr>\n",
       "  </thead>\n",
       "  <tbody>\n",
       "    <tr>\n",
       "      <th>0</th>\n",
       "      <td>RELIANCE</td>\n",
       "      <td>EQ</td>\n",
       "      <td>15-May-2017</td>\n",
       "      <td>1350.45</td>\n",
       "      <td>1356.40</td>\n",
       "      <td>1356.40</td>\n",
       "      <td>1333.50</td>\n",
       "      <td>1343.60</td>\n",
       "      <td>1344.10</td>\n",
       "      <td>1344.22</td>\n",
       "      <td>1540213</td>\n",
       "      <td>2.070379e+09</td>\n",
       "      <td>75812</td>\n",
       "      <td>802733</td>\n",
       "      <td>52.12</td>\n",
       "    </tr>\n",
       "    <tr>\n",
       "      <th>1</th>\n",
       "      <td>RELIANCE</td>\n",
       "      <td>EQ</td>\n",
       "      <td>16-May-2017</td>\n",
       "      <td>1344.10</td>\n",
       "      <td>1346.05</td>\n",
       "      <td>1376.90</td>\n",
       "      <td>1341.00</td>\n",
       "      <td>1356.20</td>\n",
       "      <td>1356.30</td>\n",
       "      <td>1360.59</td>\n",
       "      <td>2892947</td>\n",
       "      <td>3.936121e+09</td>\n",
       "      <td>79767</td>\n",
       "      <td>1238129</td>\n",
       "      <td>42.80</td>\n",
       "    </tr>\n",
       "    <tr>\n",
       "      <th>2</th>\n",
       "      <td>RELIANCE</td>\n",
       "      <td>EQ</td>\n",
       "      <td>17-May-2017</td>\n",
       "      <td>1356.30</td>\n",
       "      <td>1353.00</td>\n",
       "      <td>1365.95</td>\n",
       "      <td>1347.75</td>\n",
       "      <td>1350.00</td>\n",
       "      <td>1353.10</td>\n",
       "      <td>1354.16</td>\n",
       "      <td>2250304</td>\n",
       "      <td>3.047263e+09</td>\n",
       "      <td>56277</td>\n",
       "      <td>1225837</td>\n",
       "      <td>54.47</td>\n",
       "    </tr>\n",
       "    <tr>\n",
       "      <th>3</th>\n",
       "      <td>RELIANCE</td>\n",
       "      <td>EQ</td>\n",
       "      <td>18-May-2017</td>\n",
       "      <td>1353.10</td>\n",
       "      <td>1340.25</td>\n",
       "      <td>1350.00</td>\n",
       "      <td>1324.10</td>\n",
       "      <td>1327.45</td>\n",
       "      <td>1327.35</td>\n",
       "      <td>1336.14</td>\n",
       "      <td>2237916</td>\n",
       "      <td>2.990178e+09</td>\n",
       "      <td>84723</td>\n",
       "      <td>1339478</td>\n",
       "      <td>59.85</td>\n",
       "    </tr>\n",
       "    <tr>\n",
       "      <th>4</th>\n",
       "      <td>RELIANCE</td>\n",
       "      <td>EQ</td>\n",
       "      <td>19-May-2017</td>\n",
       "      <td>1327.35</td>\n",
       "      <td>1333.00</td>\n",
       "      <td>1335.70</td>\n",
       "      <td>1310.00</td>\n",
       "      <td>1318.20</td>\n",
       "      <td>1318.85</td>\n",
       "      <td>1321.99</td>\n",
       "      <td>2928883</td>\n",
       "      <td>3.871940e+09</td>\n",
       "      <td>115988</td>\n",
       "      <td>1444387</td>\n",
       "      <td>49.32</td>\n",
       "    </tr>\n",
       "  </tbody>\n",
       "</table>\n",
       "</div>"
      ],
      "text/plain": [
       "     Symbol Series         Date  Prev Close  Open Price  High Price  \\\n",
       "0  RELIANCE     EQ  15-May-2017     1350.45     1356.40     1356.40   \n",
       "1  RELIANCE     EQ  16-May-2017     1344.10     1346.05     1376.90   \n",
       "2  RELIANCE     EQ  17-May-2017     1356.30     1353.00     1365.95   \n",
       "3  RELIANCE     EQ  18-May-2017     1353.10     1340.25     1350.00   \n",
       "4  RELIANCE     EQ  19-May-2017     1327.35     1333.00     1335.70   \n",
       "\n",
       "   Low Price  Last Price  Close Price  Average Price  Total Traded Quantity  \\\n",
       "0    1333.50     1343.60      1344.10        1344.22                1540213   \n",
       "1    1341.00     1356.20      1356.30        1360.59                2892947   \n",
       "2    1347.75     1350.00      1353.10        1354.16                2250304   \n",
       "3    1324.10     1327.45      1327.35        1336.14                2237916   \n",
       "4    1310.00     1318.20      1318.85        1321.99                2928883   \n",
       "\n",
       "       Turnover  No. of Trades  Deliverable Qty  % Dly Qt to Traded Qty  \n",
       "0  2.070379e+09          75812           802733                   52.12  \n",
       "1  3.936121e+09          79767          1238129                   42.80  \n",
       "2  3.047263e+09          56277          1225837                   54.47  \n",
       "3  2.990178e+09          84723          1339478                   59.85  \n",
       "4  3.871940e+09         115988          1444387                   49.32  "
      ]
     },
     "execution_count": 24,
     "metadata": {},
     "output_type": "execute_result"
    }
   ],
   "source": [
    "data.head()"
   ]
  },
  {
   "cell_type": "code",
   "execution_count": 25,
   "metadata": {},
   "outputs": [],
   "source": [
    "data[\"per_open_close\"] = ((data[\"Close Price\"] - data[\"Open Price\"])/data[\"Open Price\"]) * 100\n",
    "data[\"per_low_high\"] = ((data[\"High Price\"] - data[\"Low Price\"])/data[\"Low Price\"]) * 100\n",
    "data[\"roll_mean\"] = data[\"Close Price\"].pct_change().dropna().rolling(5).mean()\n",
    "data[\"roll_std\"] = data[\"Close Price\"].pct_change().dropna().rolling(5).std()\n",
    "data = data.dropna()"
   ]
  },
  {
   "cell_type": "code",
   "execution_count": 26,
   "metadata": {},
   "outputs": [],
   "source": [
    "close_prices = list(data[\"Close Price\"])"
   ]
  },
  {
   "cell_type": "code",
   "execution_count": 27,
   "metadata": {},
   "outputs": [],
   "source": [
    "actions = [1 if close_prices[i+1]>close_prices[i] else -1 for i in range(len(close_prices)-1)]"
   ]
  },
  {
   "cell_type": "code",
   "execution_count": 28,
   "metadata": {},
   "outputs": [],
   "source": [
    "data = data[:-1]"
   ]
  },
  {
   "cell_type": "code",
   "execution_count": 29,
   "metadata": {},
   "outputs": [],
   "source": [
    "data[\"Action\"] = actions"
   ]
  },
  {
   "cell_type": "code",
   "execution_count": 30,
   "metadata": {},
   "outputs": [],
   "source": [
    "data = data.dropna()"
   ]
  },
  {
   "cell_type": "code",
   "execution_count": 31,
   "metadata": {},
   "outputs": [
    {
     "data": {
      "text/html": [
       "<div>\n",
       "<style scoped>\n",
       "    .dataframe tbody tr th:only-of-type {\n",
       "        vertical-align: middle;\n",
       "    }\n",
       "\n",
       "    .dataframe tbody tr th {\n",
       "        vertical-align: top;\n",
       "    }\n",
       "\n",
       "    .dataframe thead th {\n",
       "        text-align: right;\n",
       "    }\n",
       "</style>\n",
       "<table border=\"1\" class=\"dataframe\">\n",
       "  <thead>\n",
       "    <tr style=\"text-align: right;\">\n",
       "      <th></th>\n",
       "      <th>Symbol</th>\n",
       "      <th>Series</th>\n",
       "      <th>Date</th>\n",
       "      <th>Prev Close</th>\n",
       "      <th>Open Price</th>\n",
       "      <th>High Price</th>\n",
       "      <th>Low Price</th>\n",
       "      <th>Last Price</th>\n",
       "      <th>Close Price</th>\n",
       "      <th>Average Price</th>\n",
       "      <th>Total Traded Quantity</th>\n",
       "      <th>Turnover</th>\n",
       "      <th>No. of Trades</th>\n",
       "      <th>Deliverable Qty</th>\n",
       "      <th>% Dly Qt to Traded Qty</th>\n",
       "      <th>per_open_close</th>\n",
       "      <th>per_low_high</th>\n",
       "      <th>roll_mean</th>\n",
       "      <th>roll_std</th>\n",
       "      <th>Action</th>\n",
       "    </tr>\n",
       "  </thead>\n",
       "  <tbody>\n",
       "    <tr>\n",
       "      <th>489</th>\n",
       "      <td>RELIANCE</td>\n",
       "      <td>EQ</td>\n",
       "      <td>06-May-2019</td>\n",
       "      <td>1408.85</td>\n",
       "      <td>1398.0</td>\n",
       "      <td>1402.8</td>\n",
       "      <td>1378.10</td>\n",
       "      <td>1382.95</td>\n",
       "      <td>1384.90</td>\n",
       "      <td>1392.39</td>\n",
       "      <td>7237910</td>\n",
       "      <td>1.007802e+10</td>\n",
       "      <td>151864</td>\n",
       "      <td>3763775</td>\n",
       "      <td>52.00</td>\n",
       "      <td>-0.937053</td>\n",
       "      <td>1.792323</td>\n",
       "      <td>0.001873</td>\n",
       "      <td>0.012011</td>\n",
       "      <td>-1</td>\n",
       "    </tr>\n",
       "    <tr>\n",
       "      <th>490</th>\n",
       "      <td>RELIANCE</td>\n",
       "      <td>EQ</td>\n",
       "      <td>07-May-2019</td>\n",
       "      <td>1384.90</td>\n",
       "      <td>1394.8</td>\n",
       "      <td>1395.0</td>\n",
       "      <td>1340.20</td>\n",
       "      <td>1341.00</td>\n",
       "      <td>1343.50</td>\n",
       "      <td>1361.64</td>\n",
       "      <td>8877095</td>\n",
       "      <td>1.208739e+10</td>\n",
       "      <td>214252</td>\n",
       "      <td>4066700</td>\n",
       "      <td>45.81</td>\n",
       "      <td>-3.677947</td>\n",
       "      <td>4.088942</td>\n",
       "      <td>-0.007079</td>\n",
       "      <td>0.015943</td>\n",
       "      <td>-1</td>\n",
       "    </tr>\n",
       "    <tr>\n",
       "      <th>491</th>\n",
       "      <td>RELIANCE</td>\n",
       "      <td>EQ</td>\n",
       "      <td>08-May-2019</td>\n",
       "      <td>1343.50</td>\n",
       "      <td>1340.0</td>\n",
       "      <td>1340.0</td>\n",
       "      <td>1292.20</td>\n",
       "      <td>1297.75</td>\n",
       "      <td>1299.45</td>\n",
       "      <td>1313.10</td>\n",
       "      <td>14610543</td>\n",
       "      <td>1.918510e+10</td>\n",
       "      <td>354813</td>\n",
       "      <td>6922545</td>\n",
       "      <td>47.38</td>\n",
       "      <td>-3.026119</td>\n",
       "      <td>3.699118</td>\n",
       "      <td>-0.013636</td>\n",
       "      <td>0.018792</td>\n",
       "      <td>-1</td>\n",
       "    </tr>\n",
       "    <tr>\n",
       "      <th>492</th>\n",
       "      <td>RELIANCE</td>\n",
       "      <td>EQ</td>\n",
       "      <td>09-May-2019</td>\n",
       "      <td>1299.45</td>\n",
       "      <td>1288.8</td>\n",
       "      <td>1288.8</td>\n",
       "      <td>1251.75</td>\n",
       "      <td>1253.15</td>\n",
       "      <td>1256.45</td>\n",
       "      <td>1265.10</td>\n",
       "      <td>19507368</td>\n",
       "      <td>2.467876e+10</td>\n",
       "      <td>389079</td>\n",
       "      <td>9685998</td>\n",
       "      <td>49.65</td>\n",
       "      <td>-2.510087</td>\n",
       "      <td>2.959856</td>\n",
       "      <td>-0.022013</td>\n",
       "      <td>0.015305</td>\n",
       "      <td>-1</td>\n",
       "    </tr>\n",
       "    <tr>\n",
       "      <th>493</th>\n",
       "      <td>RELIANCE</td>\n",
       "      <td>EQ</td>\n",
       "      <td>10-May-2019</td>\n",
       "      <td>1256.45</td>\n",
       "      <td>1265.0</td>\n",
       "      <td>1277.7</td>\n",
       "      <td>1245.00</td>\n",
       "      <td>1245.75</td>\n",
       "      <td>1251.15</td>\n",
       "      <td>1263.56</td>\n",
       "      <td>11226831</td>\n",
       "      <td>1.418577e+10</td>\n",
       "      <td>231193</td>\n",
       "      <td>3221387</td>\n",
       "      <td>28.69</td>\n",
       "      <td>-1.094862</td>\n",
       "      <td>2.626506</td>\n",
       "      <td>-0.023398</td>\n",
       "      <td>0.012581</td>\n",
       "      <td>-1</td>\n",
       "    </tr>\n",
       "  </tbody>\n",
       "</table>\n",
       "</div>"
      ],
      "text/plain": [
       "       Symbol Series         Date  Prev Close  Open Price  High Price  \\\n",
       "489  RELIANCE     EQ  06-May-2019     1408.85      1398.0      1402.8   \n",
       "490  RELIANCE     EQ  07-May-2019     1384.90      1394.8      1395.0   \n",
       "491  RELIANCE     EQ  08-May-2019     1343.50      1340.0      1340.0   \n",
       "492  RELIANCE     EQ  09-May-2019     1299.45      1288.8      1288.8   \n",
       "493  RELIANCE     EQ  10-May-2019     1256.45      1265.0      1277.7   \n",
       "\n",
       "     Low Price  Last Price  Close Price  Average Price  Total Traded Quantity  \\\n",
       "489    1378.10     1382.95      1384.90        1392.39                7237910   \n",
       "490    1340.20     1341.00      1343.50        1361.64                8877095   \n",
       "491    1292.20     1297.75      1299.45        1313.10               14610543   \n",
       "492    1251.75     1253.15      1256.45        1265.10               19507368   \n",
       "493    1245.00     1245.75      1251.15        1263.56               11226831   \n",
       "\n",
       "         Turnover  No. of Trades  Deliverable Qty  % Dly Qt to Traded Qty  \\\n",
       "489  1.007802e+10         151864          3763775                   52.00   \n",
       "490  1.208739e+10         214252          4066700                   45.81   \n",
       "491  1.918510e+10         354813          6922545                   47.38   \n",
       "492  2.467876e+10         389079          9685998                   49.65   \n",
       "493  1.418577e+10         231193          3221387                   28.69   \n",
       "\n",
       "     per_open_close  per_low_high  roll_mean  roll_std  Action  \n",
       "489       -0.937053      1.792323   0.001873  0.012011      -1  \n",
       "490       -3.677947      4.088942  -0.007079  0.015943      -1  \n",
       "491       -3.026119      3.699118  -0.013636  0.018792      -1  \n",
       "492       -2.510087      2.959856  -0.022013  0.015305      -1  \n",
       "493       -1.094862      2.626506  -0.023398  0.012581      -1  "
      ]
     },
     "execution_count": 31,
     "metadata": {},
     "output_type": "execute_result"
    }
   ],
   "source": [
    "data.tail()"
   ]
  },
  {
   "cell_type": "code",
   "execution_count": 32,
   "metadata": {},
   "outputs": [],
   "source": [
    "from sklearn.ensemble import RandomForestClassifier"
   ]
  },
  {
   "cell_type": "code",
   "execution_count": 33,
   "metadata": {},
   "outputs": [],
   "source": [
    "X = data[[\"per_open_close\", \"per_low_high\", \"roll_mean\", \"roll_std\"]]\n",
    "y = data[\"Action\"]"
   ]
  },
  {
   "cell_type": "code",
   "execution_count": 34,
   "metadata": {},
   "outputs": [
    {
     "data": {
      "text/plain": [
       "RandomForestClassifier(bootstrap=True, ccp_alpha=0.0, class_weight=None,\n",
       "                       criterion='gini', max_depth=2, max_features='auto',\n",
       "                       max_leaf_nodes=None, max_samples=None,\n",
       "                       min_impurity_decrease=0.0, min_impurity_split=None,\n",
       "                       min_samples_leaf=1, min_samples_split=2,\n",
       "                       min_weight_fraction_leaf=0.0, n_estimators=100,\n",
       "                       n_jobs=None, oob_score=False, random_state=1, verbose=0,\n",
       "                       warm_start=False)"
      ]
     },
     "execution_count": 34,
     "metadata": {},
     "output_type": "execute_result"
    }
   ],
   "source": [
    "X_train, X_test, y_train, y_test = train_test_split(X, y)\n",
    "model = RandomForestClassifier(n_estimators = 100, max_depth=2, random_state=1) \n",
    "model.fit(X_train, y_train)"
   ]
  },
  {
   "cell_type": "code",
   "execution_count": 35,
   "metadata": {},
   "outputs": [],
   "source": [
    "y_pred = model.predict(X_test)"
   ]
  },
  {
   "cell_type": "code",
   "execution_count": 36,
   "metadata": {},
   "outputs": [],
   "source": [
    "from sklearn.metrics import classification_report"
   ]
  },
  {
   "cell_type": "code",
   "execution_count": 37,
   "metadata": {},
   "outputs": [
    {
     "name": "stdout",
     "output_type": "stream",
     "text": [
      "              precision    recall  f1-score   support\n",
      "\n",
      "          -1       0.52      0.28      0.36        57\n",
      "           1       0.55      0.77      0.65        66\n",
      "\n",
      "    accuracy                           0.54       123\n",
      "   macro avg       0.54      0.53      0.50       123\n",
      "weighted avg       0.54      0.54      0.51       123\n",
      "\n"
     ]
    }
   ],
   "source": [
    "print(classification_report(y_test, y_pred))"
   ]
  },
  {
   "cell_type": "code",
   "execution_count": 38,
   "metadata": {},
   "outputs": [
    {
     "data": {
      "text/plain": [
       "[<matplotlib.lines.Line2D at 0x2339111ae88>]"
      ]
     },
     "execution_count": 38,
     "metadata": {},
     "output_type": "execute_result"
    },
    {
     "data": {
      "image/png": "[encoded data removed]",
      "text/plain": [
       "<Figure size 1440x720 with 1 Axes>"
      ]
     },
     "metadata": {
      "needs_background": "light"
     },
     "output_type": "display_data"
    }
   ],
   "source": [
    "data['Net Cummulative Returns'] = (((data['Close Price'] - data['Open Price'])/(data['Open Price']))*100).cumsum()\n",
    "plt.figure(figsize=(20,10))\n",
    "plt.plot(data['Net Cummulative Returns'])"
   ]
  },
  {
   "cell_type": "code",
   "execution_count": null,
   "metadata": {},
   "outputs": [],
   "source": []
  },
  {
   "cell_type": "code",
   "execution_count": null,
   "metadata": {},
   "outputs": [],
   "source": []
  }
 ],
 "metadata": {
  "kernelspec": {
   "display_name": "Python 3",
   "language": "python",
   "name": "python3"
  },
  "language_info": {
   "codemirror_mode": {
    "name": "ipython",
    "version": 3
   },
   "file_extension": ".py",
   "mimetype": "text/x-python",
   "name": "python",
   "nbconvert_exporter": "python",
   "pygments_lexer": "ipython3",
   "version": "3.7.6"
  }
 },
 "nbformat": 4,
 "nbformat_minor": 4
}
