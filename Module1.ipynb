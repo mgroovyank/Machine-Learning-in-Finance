{
 "cells": [
  {
   "cell_type": "code",
   "execution_count": 1,
   "metadata": {},
   "outputs": [],
   "source": [
    "import pandas as pd"
   ]
  },
  {
   "cell_type": "code",
   "execution_count": 2,
   "metadata": {},
   "outputs": [],
   "source": [
    "import numpy as np"
   ]
  },
  {
   "cell_type": "code",
   "execution_count": 3,
   "metadata": {},
   "outputs": [],
   "source": [
    "data = pd.read_csv(\"MSFT.csv\")"
   ]
  },
  {
   "cell_type": "code",
   "execution_count": 4,
   "metadata": {},
   "outputs": [
    {
     "data": {
      "text/html": [
       "<div>\n",
       "<style scoped>\n",
       "    .dataframe tbody tr th:only-of-type {\n",
       "        vertical-align: middle;\n",
       "    }\n",
       "\n",
       "    .dataframe tbody tr th {\n",
       "        vertical-align: top;\n",
       "    }\n",
       "\n",
       "    .dataframe thead th {\n",
       "        text-align: right;\n",
       "    }\n",
       "</style>\n",
       "<table border=\"1\" class=\"dataframe\">\n",
       "  <thead>\n",
       "    <tr style=\"text-align: right;\">\n",
       "      <th></th>\n",
       "      <th>Date</th>\n",
       "      <th>Close Price</th>\n",
       "      <th>Open Price</th>\n",
       "      <th>High Price</th>\n",
       "      <th>Low Price</th>\n",
       "      <th>Total Traded Quantity</th>\n",
       "    </tr>\n",
       "  </thead>\n",
       "  <tbody>\n",
       "    <tr>\n",
       "      <th>0</th>\n",
       "      <td>Oct 24, 2019</td>\n",
       "      <td>139.94</td>\n",
       "      <td>139.14</td>\n",
       "      <td>140.40</td>\n",
       "      <td>138.69</td>\n",
       "      <td>37.28M</td>\n",
       "    </tr>\n",
       "    <tr>\n",
       "      <th>1</th>\n",
       "      <td>Oct 23, 2019</td>\n",
       "      <td>137.24</td>\n",
       "      <td>136.88</td>\n",
       "      <td>137.45</td>\n",
       "      <td>135.61</td>\n",
       "      <td>31.38M</td>\n",
       "    </tr>\n",
       "    <tr>\n",
       "      <th>2</th>\n",
       "      <td>Oct 22, 2019</td>\n",
       "      <td>136.37</td>\n",
       "      <td>138.97</td>\n",
       "      <td>140.01</td>\n",
       "      <td>136.26</td>\n",
       "      <td>27.94M</td>\n",
       "    </tr>\n",
       "    <tr>\n",
       "      <th>3</th>\n",
       "      <td>Oct 21, 2019</td>\n",
       "      <td>138.43</td>\n",
       "      <td>138.45</td>\n",
       "      <td>138.50</td>\n",
       "      <td>137.01</td>\n",
       "      <td>20.72M</td>\n",
       "    </tr>\n",
       "    <tr>\n",
       "      <th>4</th>\n",
       "      <td>Oct 18, 2019</td>\n",
       "      <td>137.41</td>\n",
       "      <td>139.76</td>\n",
       "      <td>140.00</td>\n",
       "      <td>136.56</td>\n",
       "      <td>32.28M</td>\n",
       "    </tr>\n",
       "  </tbody>\n",
       "</table>\n",
       "</div>"
      ],
      "text/plain": [
       "           Date  Close Price  Open Price  High Price  Low Price  \\\n",
       "0  Oct 24, 2019       139.94      139.14      140.40     138.69   \n",
       "1  Oct 23, 2019       137.24      136.88      137.45     135.61   \n",
       "2  Oct 22, 2019       136.37      138.97      140.01     136.26   \n",
       "3  Oct 21, 2019       138.43      138.45      138.50     137.01   \n",
       "4  Oct 18, 2019       137.41      139.76      140.00     136.56   \n",
       "\n",
       "  Total Traded Quantity  \n",
       "0                37.28M  \n",
       "1                31.38M  \n",
       "2                27.94M  \n",
       "3                20.72M  \n",
       "4                32.28M  "
      ]
     },
     "execution_count": 4,
     "metadata": {},
     "output_type": "execute_result"
    }
   ],
   "source": [
    "data.head()"
   ]
  },
  {
   "cell_type": "code",
   "execution_count": 5,
   "metadata": {},
   "outputs": [
    {
     "data": {
      "text/html": [
       "<div>\n",
       "<style scoped>\n",
       "    .dataframe tbody tr th:only-of-type {\n",
       "        vertical-align: middle;\n",
       "    }\n",
       "\n",
       "    .dataframe tbody tr th {\n",
       "        vertical-align: top;\n",
       "    }\n",
       "\n",
       "    .dataframe thead th {\n",
       "        text-align: right;\n",
       "    }\n",
       "</style>\n",
       "<table border=\"1\" class=\"dataframe\">\n",
       "  <thead>\n",
       "    <tr style=\"text-align: right;\">\n",
       "      <th></th>\n",
       "      <th>Date</th>\n",
       "      <th>Close Price</th>\n",
       "      <th>Open Price</th>\n",
       "      <th>High Price</th>\n",
       "      <th>Low Price</th>\n",
       "      <th>Total Traded Quantity</th>\n",
       "    </tr>\n",
       "  </thead>\n",
       "  <tbody>\n",
       "    <tr>\n",
       "      <th>498</th>\n",
       "      <td>Oct 31, 2017</td>\n",
       "      <td>83.18</td>\n",
       "      <td>84.36</td>\n",
       "      <td>84.36</td>\n",
       "      <td>83.11</td>\n",
       "      <td>27.09M</td>\n",
       "    </tr>\n",
       "    <tr>\n",
       "      <th>499</th>\n",
       "      <td>Oct 30, 2017</td>\n",
       "      <td>83.89</td>\n",
       "      <td>83.70</td>\n",
       "      <td>84.33</td>\n",
       "      <td>83.11</td>\n",
       "      <td>31.76M</td>\n",
       "    </tr>\n",
       "    <tr>\n",
       "      <th>500</th>\n",
       "      <td>Oct 27, 2017</td>\n",
       "      <td>83.81</td>\n",
       "      <td>84.37</td>\n",
       "      <td>86.20</td>\n",
       "      <td>83.61</td>\n",
       "      <td>71.07M</td>\n",
       "    </tr>\n",
       "    <tr>\n",
       "      <th>501</th>\n",
       "      <td>Oct 26, 2017</td>\n",
       "      <td>78.76</td>\n",
       "      <td>79.20</td>\n",
       "      <td>79.42</td>\n",
       "      <td>78.75</td>\n",
       "      <td>32.12M</td>\n",
       "    </tr>\n",
       "    <tr>\n",
       "      <th>502</th>\n",
       "      <td>Oct 25, 2017</td>\n",
       "      <td>78.63</td>\n",
       "      <td>78.58</td>\n",
       "      <td>79.10</td>\n",
       "      <td>78.01</td>\n",
       "      <td>20.41M</td>\n",
       "    </tr>\n",
       "  </tbody>\n",
       "</table>\n",
       "</div>"
      ],
      "text/plain": [
       "             Date  Close Price  Open Price  High Price  Low Price  \\\n",
       "498  Oct 31, 2017        83.18       84.36       84.36      83.11   \n",
       "499  Oct 30, 2017        83.89       83.70       84.33      83.11   \n",
       "500  Oct 27, 2017        83.81       84.37       86.20      83.61   \n",
       "501  Oct 26, 2017        78.76       79.20       79.42      78.75   \n",
       "502  Oct 25, 2017        78.63       78.58       79.10      78.01   \n",
       "\n",
       "    Total Traded Quantity  \n",
       "498                27.09M  \n",
       "499                31.76M  \n",
       "500                71.07M  \n",
       "501                32.12M  \n",
       "502                20.41M  "
      ]
     },
     "execution_count": 5,
     "metadata": {},
     "output_type": "execute_result"
    }
   ],
   "source": [
    "data.tail()"
   ]
  },
  {
   "cell_type": "code",
   "execution_count": 6,
   "metadata": {},
   "outputs": [
    {
     "data": {
      "text/html": [
       "<div>\n",
       "<style scoped>\n",
       "    .dataframe tbody tr th:only-of-type {\n",
       "        vertical-align: middle;\n",
       "    }\n",
       "\n",
       "    .dataframe tbody tr th {\n",
       "        vertical-align: top;\n",
       "    }\n",
       "\n",
       "    .dataframe thead th {\n",
       "        text-align: right;\n",
       "    }\n",
       "</style>\n",
       "<table border=\"1\" class=\"dataframe\">\n",
       "  <thead>\n",
       "    <tr style=\"text-align: right;\">\n",
       "      <th></th>\n",
       "      <th>Close Price</th>\n",
       "      <th>Open Price</th>\n",
       "      <th>High Price</th>\n",
       "      <th>Low Price</th>\n",
       "    </tr>\n",
       "  </thead>\n",
       "  <tbody>\n",
       "    <tr>\n",
       "      <th>count</th>\n",
       "      <td>503.000000</td>\n",
       "      <td>503.000000</td>\n",
       "      <td>503.000000</td>\n",
       "      <td>503.000000</td>\n",
       "    </tr>\n",
       "    <tr>\n",
       "      <th>mean</th>\n",
       "      <td>109.665805</td>\n",
       "      <td>109.707575</td>\n",
       "      <td>110.626839</td>\n",
       "      <td>108.608628</td>\n",
       "    </tr>\n",
       "    <tr>\n",
       "      <th>std</th>\n",
       "      <td>17.381956</td>\n",
       "      <td>17.414436</td>\n",
       "      <td>17.427872</td>\n",
       "      <td>17.310675</td>\n",
       "    </tr>\n",
       "    <tr>\n",
       "      <th>min</th>\n",
       "      <td>78.630000</td>\n",
       "      <td>78.580000</td>\n",
       "      <td>79.100000</td>\n",
       "      <td>78.010000</td>\n",
       "    </tr>\n",
       "    <tr>\n",
       "      <th>25%</th>\n",
       "      <td>95.385000</td>\n",
       "      <td>95.795000</td>\n",
       "      <td>96.505000</td>\n",
       "      <td>94.125000</td>\n",
       "    </tr>\n",
       "    <tr>\n",
       "      <th>50%</th>\n",
       "      <td>107.220000</td>\n",
       "      <td>107.460000</td>\n",
       "      <td>108.300000</td>\n",
       "      <td>105.960000</td>\n",
       "    </tr>\n",
       "    <tr>\n",
       "      <th>75%</th>\n",
       "      <td>124.245000</td>\n",
       "      <td>124.105000</td>\n",
       "      <td>125.470000</td>\n",
       "      <td>123.445000</td>\n",
       "    </tr>\n",
       "    <tr>\n",
       "      <th>max</th>\n",
       "      <td>141.570000</td>\n",
       "      <td>141.500000</td>\n",
       "      <td>142.370000</td>\n",
       "      <td>140.300000</td>\n",
       "    </tr>\n",
       "  </tbody>\n",
       "</table>\n",
       "</div>"
      ],
      "text/plain": [
       "       Close Price  Open Price  High Price   Low Price\n",
       "count   503.000000  503.000000  503.000000  503.000000\n",
       "mean    109.665805  109.707575  110.626839  108.608628\n",
       "std      17.381956   17.414436   17.427872   17.310675\n",
       "min      78.630000   78.580000   79.100000   78.010000\n",
       "25%      95.385000   95.795000   96.505000   94.125000\n",
       "50%     107.220000  107.460000  108.300000  105.960000\n",
       "75%     124.245000  124.105000  125.470000  123.445000\n",
       "max     141.570000  141.500000  142.370000  140.300000"
      ]
     },
     "execution_count": 6,
     "metadata": {},
     "output_type": "execute_result"
    }
   ],
   "source": [
    "data.describe()"
   ]
  },
  {
   "cell_type": "code",
   "execution_count": 7,
   "metadata": {},
   "outputs": [],
   "source": [
    "data['Date'] = pd.to_datetime(data.Date)\n",
    "data.sort_values(by = \"Date\", ascending = False, inplace = True)"
   ]
  },
  {
   "cell_type": "code",
   "execution_count": 8,
   "metadata": {},
   "outputs": [
    {
     "data": {
      "text/html": [
       "<div>\n",
       "<style scoped>\n",
       "    .dataframe tbody tr th:only-of-type {\n",
       "        vertical-align: middle;\n",
       "    }\n",
       "\n",
       "    .dataframe tbody tr th {\n",
       "        vertical-align: top;\n",
       "    }\n",
       "\n",
       "    .dataframe thead th {\n",
       "        text-align: right;\n",
       "    }\n",
       "</style>\n",
       "<table border=\"1\" class=\"dataframe\">\n",
       "  <thead>\n",
       "    <tr style=\"text-align: right;\">\n",
       "      <th></th>\n",
       "      <th>Date</th>\n",
       "      <th>Close Price</th>\n",
       "      <th>Open Price</th>\n",
       "      <th>High Price</th>\n",
       "      <th>Low Price</th>\n",
       "      <th>Total Traded Quantity</th>\n",
       "    </tr>\n",
       "  </thead>\n",
       "  <tbody>\n",
       "    <tr>\n",
       "      <th>0</th>\n",
       "      <td>2019-10-24</td>\n",
       "      <td>139.94</td>\n",
       "      <td>139.14</td>\n",
       "      <td>140.40</td>\n",
       "      <td>138.69</td>\n",
       "      <td>37.28M</td>\n",
       "    </tr>\n",
       "    <tr>\n",
       "      <th>1</th>\n",
       "      <td>2019-10-23</td>\n",
       "      <td>137.24</td>\n",
       "      <td>136.88</td>\n",
       "      <td>137.45</td>\n",
       "      <td>135.61</td>\n",
       "      <td>31.38M</td>\n",
       "    </tr>\n",
       "    <tr>\n",
       "      <th>2</th>\n",
       "      <td>2019-10-22</td>\n",
       "      <td>136.37</td>\n",
       "      <td>138.97</td>\n",
       "      <td>140.01</td>\n",
       "      <td>136.26</td>\n",
       "      <td>27.94M</td>\n",
       "    </tr>\n",
       "    <tr>\n",
       "      <th>3</th>\n",
       "      <td>2019-10-21</td>\n",
       "      <td>138.43</td>\n",
       "      <td>138.45</td>\n",
       "      <td>138.50</td>\n",
       "      <td>137.01</td>\n",
       "      <td>20.72M</td>\n",
       "    </tr>\n",
       "    <tr>\n",
       "      <th>4</th>\n",
       "      <td>2019-10-18</td>\n",
       "      <td>137.41</td>\n",
       "      <td>139.76</td>\n",
       "      <td>140.00</td>\n",
       "      <td>136.56</td>\n",
       "      <td>32.28M</td>\n",
       "    </tr>\n",
       "  </tbody>\n",
       "</table>\n",
       "</div>"
      ],
      "text/plain": [
       "        Date  Close Price  Open Price  High Price  Low Price  \\\n",
       "0 2019-10-24       139.94      139.14      140.40     138.69   \n",
       "1 2019-10-23       137.24      136.88      137.45     135.61   \n",
       "2 2019-10-22       136.37      138.97      140.01     136.26   \n",
       "3 2019-10-21       138.43      138.45      138.50     137.01   \n",
       "4 2019-10-18       137.41      139.76      140.00     136.56   \n",
       "\n",
       "  Total Traded Quantity  \n",
       "0                37.28M  \n",
       "1                31.38M  \n",
       "2                27.94M  \n",
       "3                20.72M  \n",
       "4                32.28M  "
      ]
     },
     "execution_count": 8,
     "metadata": {},
     "output_type": "execute_result"
    }
   ],
   "source": [
    "data.head()"
   ]
  },
  {
   "cell_type": "code",
   "execution_count": 9,
   "metadata": {},
   "outputs": [
    {
     "name": "stdout",
     "output_type": "stream",
     "text": [
      "Max_close_price: 141.57\n",
      "Min_close_price: 132.21\n",
      "Mean_close_price: 137.447222222\n"
     ]
    }
   ],
   "source": [
    "max_close_price = np.max(data[\"Close Price\"].iloc[:90])\n",
    "print(\"Max_close_price: {}\".format(max_close_price))\n",
    "min_close_price = np.min(data[\"Close Price\"].iloc[:90])\n",
    "print(\"Min_close_price: {}\".format(min_close_price))\n",
    "mean_close_price = np.mean(data[\"Close Price\"].iloc[:90])\n",
    "print(\"Mean_close_price: {}\".format(mean_close_price))"
   ]
  },
  {
   "cell_type": "code",
   "execution_count": 10,
   "metadata": {},
   "outputs": [
    {
     "data": {
      "text/plain": [
       "Index([u'Date', u'Close Price', u'Open Price', u'High Price', u'Low Price',\n",
       "       u'Total Traded Quantity'],\n",
       "      dtype='object')"
      ]
     },
     "execution_count": 10,
     "metadata": {},
     "output_type": "execute_result"
    }
   ],
   "source": [
    "data.columns"
   ]
  },
  {
   "cell_type": "code",
   "execution_count": 11,
   "metadata": {},
   "outputs": [
    {
     "data": {
      "text/plain": [
       "Date                     datetime64[ns]\n",
       "Close Price                     float64\n",
       "Open Price                      float64\n",
       "High Price                      float64\n",
       "Low Price                       float64\n",
       "Total Traded Quantity            object\n",
       "dtype: object"
      ]
     },
     "execution_count": 11,
     "metadata": {},
     "output_type": "execute_result"
    }
   ],
   "source": [
    "data.dtypes"
   ]
  },
  {
   "cell_type": "code",
   "execution_count": 12,
   "metadata": {},
   "outputs": [
    {
     "data": {
      "text/plain": [
       "Timedelta('729 days 00:00:00')"
      ]
     },
     "execution_count": 12,
     "metadata": {},
     "output_type": "execute_result"
    }
   ],
   "source": [
    "np.max(data[\"Date\"]) - np.min(data[\"Date\"])"
   ]
  },
  {
   "cell_type": "code",
   "execution_count": 13,
   "metadata": {},
   "outputs": [],
   "source": [
    "data[\"Month\"] = data[\"Date\"].dt.month\n",
    "data[\"Year\"] = data[\"Date\"].dt.year"
   ]
  },
  {
   "cell_type": "code",
   "execution_count": 14,
   "metadata": {},
   "outputs": [
    {
     "data": {
      "text/html": [
       "<div>\n",
       "<style scoped>\n",
       "    .dataframe tbody tr th:only-of-type {\n",
       "        vertical-align: middle;\n",
       "    }\n",
       "\n",
       "    .dataframe tbody tr th {\n",
       "        vertical-align: top;\n",
       "    }\n",
       "\n",
       "    .dataframe thead th {\n",
       "        text-align: right;\n",
       "    }\n",
       "</style>\n",
       "<table border=\"1\" class=\"dataframe\">\n",
       "  <thead>\n",
       "    <tr style=\"text-align: right;\">\n",
       "      <th></th>\n",
       "      <th>Date</th>\n",
       "      <th>Close Price</th>\n",
       "      <th>Open Price</th>\n",
       "      <th>High Price</th>\n",
       "      <th>Low Price</th>\n",
       "      <th>Total Traded Quantity</th>\n",
       "      <th>Month</th>\n",
       "      <th>Year</th>\n",
       "    </tr>\n",
       "  </thead>\n",
       "  <tbody>\n",
       "    <tr>\n",
       "      <th>0</th>\n",
       "      <td>2019-10-24</td>\n",
       "      <td>139.94</td>\n",
       "      <td>139.14</td>\n",
       "      <td>140.40</td>\n",
       "      <td>138.69</td>\n",
       "      <td>37.28M</td>\n",
       "      <td>10</td>\n",
       "      <td>2019</td>\n",
       "    </tr>\n",
       "    <tr>\n",
       "      <th>1</th>\n",
       "      <td>2019-10-23</td>\n",
       "      <td>137.24</td>\n",
       "      <td>136.88</td>\n",
       "      <td>137.45</td>\n",
       "      <td>135.61</td>\n",
       "      <td>31.38M</td>\n",
       "      <td>10</td>\n",
       "      <td>2019</td>\n",
       "    </tr>\n",
       "    <tr>\n",
       "      <th>2</th>\n",
       "      <td>2019-10-22</td>\n",
       "      <td>136.37</td>\n",
       "      <td>138.97</td>\n",
       "      <td>140.01</td>\n",
       "      <td>136.26</td>\n",
       "      <td>27.94M</td>\n",
       "      <td>10</td>\n",
       "      <td>2019</td>\n",
       "    </tr>\n",
       "    <tr>\n",
       "      <th>3</th>\n",
       "      <td>2019-10-21</td>\n",
       "      <td>138.43</td>\n",
       "      <td>138.45</td>\n",
       "      <td>138.50</td>\n",
       "      <td>137.01</td>\n",
       "      <td>20.72M</td>\n",
       "      <td>10</td>\n",
       "      <td>2019</td>\n",
       "    </tr>\n",
       "    <tr>\n",
       "      <th>4</th>\n",
       "      <td>2019-10-18</td>\n",
       "      <td>137.41</td>\n",
       "      <td>139.76</td>\n",
       "      <td>140.00</td>\n",
       "      <td>136.56</td>\n",
       "      <td>32.28M</td>\n",
       "      <td>10</td>\n",
       "      <td>2019</td>\n",
       "    </tr>\n",
       "  </tbody>\n",
       "</table>\n",
       "</div>"
      ],
      "text/plain": [
       "        Date  Close Price  Open Price  High Price  Low Price  \\\n",
       "0 2019-10-24       139.94      139.14      140.40     138.69   \n",
       "1 2019-10-23       137.24      136.88      137.45     135.61   \n",
       "2 2019-10-22       136.37      138.97      140.01     136.26   \n",
       "3 2019-10-21       138.43      138.45      138.50     137.01   \n",
       "4 2019-10-18       137.41      139.76      140.00     136.56   \n",
       "\n",
       "  Total Traded Quantity  Month  Year  \n",
       "0                37.28M     10  2019  \n",
       "1                31.38M     10  2019  \n",
       "2                27.94M     10  2019  \n",
       "3                20.72M     10  2019  \n",
       "4                32.28M     10  2019  "
      ]
     },
     "execution_count": 14,
     "metadata": {},
     "output_type": "execute_result"
    }
   ],
   "source": [
    "data.head()"
   ]
  },
  {
   "cell_type": "code",
   "execution_count": 15,
   "metadata": {},
   "outputs": [],
   "source": [
    "data[\"Volume\"] = data[\"Total Traded Quantity\"].apply(lambda x: float(x[:-2]))"
   ]
  },
  {
   "cell_type": "code",
   "execution_count": 16,
   "metadata": {},
   "outputs": [],
   "source": [
    "def vwap(df):\n",
    "    q = df[\"Volume\"].values\n",
    "    p = df[\"Close Price\"].values\n",
    "    return df.assign(VWAP=(p * q).cumsum() / q.cumsum())\n",
    "\n",
    "data = data.groupby([\"Year\", \"Month\"], group_keys=False).apply(vwap)"
   ]
  },
  {
   "cell_type": "code",
   "execution_count": 17,
   "metadata": {},
   "outputs": [],
   "source": [
    "def avg_price_n(n):\n",
    "    df  = data[:n]\n",
    "    return np.average(df[\"Close Price\"])"
   ]
  },
  {
   "cell_type": "code",
   "execution_count": 18,
   "metadata": {},
   "outputs": [],
   "source": [
    "def profit_loss_n(n):\n",
    "    return ((data[\"Close Price\"][0] - data[\"Close Price\"][n-1])/data[\"Close Price\"][n-1])*100"
   ]
  },
  {
   "cell_type": "code",
   "execution_count": 19,
   "metadata": {},
   "outputs": [
    {
     "data": {
      "text/plain": [
       "0.0"
      ]
     },
     "execution_count": 19,
     "metadata": {},
     "output_type": "execute_result"
    }
   ],
   "source": [
    "profit_loss_n(1)"
   ]
  },
  {
   "cell_type": "code",
   "execution_count": 20,
   "metadata": {},
   "outputs": [
    {
     "name": "stdout",
     "output_type": "stream",
     "text": [
      "82.25428571428571\n",
      "82.82500000000002\n",
      "83.62366666666667\n",
      "87.25544444444445\n",
      "92.27077777777778\n",
      "100.73956164383563\n"
     ]
    }
   ],
   "source": [
    "print(avg_price_n(7))\n",
    "print(avg_price_n(2*7))\n",
    "print(avg_price_n(30))\n",
    "print(avg_price_n(90))\n",
    "print(avg_price_n(180))\n",
    "print(avg_price_n(365))"
   ]
  },
  {
   "cell_type": "code",
   "execution_count": 21,
   "metadata": {},
   "outputs": [
    {
     "name": "stdout",
     "output_type": "stream",
     "text": [
      "-0.33473399330531933\n",
      "2.056592765460905\n",
      "1.9079522283716899\n",
      "3.132139435477928\n",
      "32.43115359136935\n",
      "43.79367036580354\n"
     ]
    }
   ],
   "source": [
    "print(profit_loss_n(7))\n",
    "print(profit_loss_n(14))\n",
    "print(profit_loss_n(30))\n",
    "print(profit_loss_n(90))\n",
    "print(profit_loss_n(180))\n",
    "print(profit_loss_n(365))"
   ]
  },
  {
   "cell_type": "code",
   "execution_count": 22,
   "metadata": {},
   "outputs": [],
   "source": [
    "data[\"Day_Perc_Change\"] = data[\"Close Price\"].pct_change()\n",
    "data = data.drop([498], axis=0)"
   ]
  },
  {
   "cell_type": "code",
   "execution_count": 23,
   "metadata": {
    "scrolled": true
   },
   "outputs": [],
   "source": [
    "def trend(x):\n",
    "    if x>=-0.5 and x<0.5:\n",
    "         return \"Slight or No Change\"\n",
    "    elif x>=0.5 and x<1:\n",
    "        return \"Slight positive\"\n",
    "    elif x>=1 and x<3:\n",
    "        return \"positive\"\n",
    "    elif x>=-1 and x<-0.5:\n",
    "        return \"Slight negative\"\n",
    "    elif x>=-3 and x<-1:\n",
    "        return \"negative\"\n",
    "    elif x>3 and x<7:\n",
    "        return \"Top gainers\"\n",
    "    elif x<-3 and x>=-7:\n",
    "        return \"Top losers\"\n",
    "    elif x>=7:\n",
    "        return \"Bull run\"\n",
    "    elif x<-7:\n",
    "        return \"Bear drop\""
   ]
  },
  {
   "cell_type": "code",
   "execution_count": 24,
   "metadata": {},
   "outputs": [],
   "source": [
    "data[\"Trend\"] = data[\"Day_Perc_Change\"].apply(trend)"
   ]
  },
  {
   "cell_type": "code",
   "execution_count": 25,
   "metadata": {},
   "outputs": [],
   "source": [
    "def avg_trend(df):\n",
    "    vol = df[\"Volume\"].values\n",
    "    avg = np.average(vol)\n",
    "    return df.assign(Avg_Trend=avg)\n",
    "\n",
    "def median_trend(df):\n",
    "    vol = df[\"Volume\"].values\n",
    "    med = np.median(vol)\n",
    "    return df.assign(Median_Trend=med)"
   ]
  },
  {
   "cell_type": "code",
   "execution_count": 26,
   "metadata": {},
   "outputs": [],
   "source": [
    "data.groupby([\"Trend\"], group_keys=False).apply(avg_trend)\n",
    "data = data.groupby([\"Trend\"], group_keys=False).apply(median_trend)"
   ]
  },
  {
   "cell_type": "code",
   "execution_count": 31,
   "metadata": {},
   "outputs": [
    {
     "data": {
      "text/html": [
       "<div>\n",
       "<style scoped>\n",
       "    .dataframe tbody tr th:only-of-type {\n",
       "        vertical-align: middle;\n",
       "    }\n",
       "\n",
       "    .dataframe tbody tr th {\n",
       "        vertical-align: top;\n",
       "    }\n",
       "\n",
       "    .dataframe thead th {\n",
       "        text-align: right;\n",
       "    }\n",
       "</style>\n",
       "<table border=\"1\" class=\"dataframe\">\n",
       "  <thead>\n",
       "    <tr style=\"text-align: right;\">\n",
       "      <th></th>\n",
       "      <th>Date</th>\n",
       "      <th>Close Price</th>\n",
       "      <th>Open Price</th>\n",
       "      <th>High Price</th>\n",
       "      <th>Low Price</th>\n",
       "      <th>Total Traded Quantity</th>\n",
       "      <th>Month</th>\n",
       "      <th>Year</th>\n",
       "      <th>Volume</th>\n",
       "      <th>VWAP</th>\n",
       "      <th>Day_Perc_Change</th>\n",
       "      <th>Trend</th>\n",
       "      <th>Avg_Trend</th>\n",
       "      <th>Median_Trend</th>\n",
       "    </tr>\n",
       "  </thead>\n",
       "  <tbody>\n",
       "    <tr>\n",
       "      <th>13</th>\n",
       "      <td>2019-10-07</td>\n",
       "      <td>137.12</td>\n",
       "      <td>137.14</td>\n",
       "      <td>138.18</td>\n",
       "      <td>137.02</td>\n",
       "      <td>16.60M</td>\n",
       "      <td>10</td>\n",
       "      <td>2019</td>\n",
       "      <td>16.6</td>\n",
       "      <td>138.490646</td>\n",
       "      <td>0.010688</td>\n",
       "      <td>Slight or No Change</td>\n",
       "      <td>28.28247</td>\n",
       "      <td>25.7</td>\n",
       "    </tr>\n",
       "    <tr>\n",
       "      <th>14</th>\n",
       "      <td>2019-10-04</td>\n",
       "      <td>138.12</td>\n",
       "      <td>136.75</td>\n",
       "      <td>138.25</td>\n",
       "      <td>136.42</td>\n",
       "      <td>23.84M</td>\n",
       "      <td>10</td>\n",
       "      <td>2019</td>\n",
       "      <td>23.8</td>\n",
       "      <td>138.465915</td>\n",
       "      <td>0.007293</td>\n",
       "      <td>Slight or No Change</td>\n",
       "      <td>28.28247</td>\n",
       "      <td>25.7</td>\n",
       "    </tr>\n",
       "    <tr>\n",
       "      <th>15</th>\n",
       "      <td>2019-10-03</td>\n",
       "      <td>136.28</td>\n",
       "      <td>134.95</td>\n",
       "      <td>136.75</td>\n",
       "      <td>133.22</td>\n",
       "      <td>26.38M</td>\n",
       "      <td>10</td>\n",
       "      <td>2019</td>\n",
       "      <td>26.3</td>\n",
       "      <td>138.315812</td>\n",
       "      <td>-0.013322</td>\n",
       "      <td>Slight or No Change</td>\n",
       "      <td>28.28247</td>\n",
       "      <td>25.7</td>\n",
       "    </tr>\n",
       "    <tr>\n",
       "      <th>16</th>\n",
       "      <td>2019-10-02</td>\n",
       "      <td>134.65</td>\n",
       "      <td>136.25</td>\n",
       "      <td>136.37</td>\n",
       "      <td>133.58</td>\n",
       "      <td>32.00M</td>\n",
       "      <td>10</td>\n",
       "      <td>2019</td>\n",
       "      <td>32.0</td>\n",
       "      <td>138.033147</td>\n",
       "      <td>-0.011961</td>\n",
       "      <td>Slight or No Change</td>\n",
       "      <td>28.28247</td>\n",
       "      <td>25.7</td>\n",
       "    </tr>\n",
       "    <tr>\n",
       "      <th>17</th>\n",
       "      <td>2019-10-01</td>\n",
       "      <td>137.07</td>\n",
       "      <td>139.66</td>\n",
       "      <td>140.25</td>\n",
       "      <td>137.00</td>\n",
       "      <td>22.58M</td>\n",
       "      <td>10</td>\n",
       "      <td>2019</td>\n",
       "      <td>22.5</td>\n",
       "      <td>137.983614</td>\n",
       "      <td>0.017973</td>\n",
       "      <td>Slight or No Change</td>\n",
       "      <td>28.28247</td>\n",
       "      <td>25.7</td>\n",
       "    </tr>\n",
       "  </tbody>\n",
       "</table>\n",
       "</div>"
      ],
      "text/plain": [
       "         Date  Close Price  Open Price  High Price  Low Price  \\\n",
       "13 2019-10-07       137.12      137.14      138.18     137.02   \n",
       "14 2019-10-04       138.12      136.75      138.25     136.42   \n",
       "15 2019-10-03       136.28      134.95      136.75     133.22   \n",
       "16 2019-10-02       134.65      136.25      136.37     133.58   \n",
       "17 2019-10-01       137.07      139.66      140.25     137.00   \n",
       "\n",
       "   Total Traded Quantity  Month  Year  Volume        VWAP  Day_Perc_Change  \\\n",
       "13                16.60M     10  2019    16.6  138.490646         0.010688   \n",
       "14                23.84M     10  2019    23.8  138.465915         0.007293   \n",
       "15                26.38M     10  2019    26.3  138.315812        -0.013322   \n",
       "16                32.00M     10  2019    32.0  138.033147        -0.011961   \n",
       "17                22.58M     10  2019    22.5  137.983614         0.017973   \n",
       "\n",
       "                  Trend  Avg_Trend  Median_Trend  \n",
       "13  Slight or No Change   28.28247          25.7  \n",
       "14  Slight or No Change   28.28247          25.7  \n",
       "15  Slight or No Change   28.28247          25.7  \n",
       "16  Slight or No Change   28.28247          25.7  \n",
       "17  Slight or No Change   28.28247          25.7  "
      ]
     },
     "execution_count": 31,
     "metadata": {},
     "output_type": "execute_result"
    }
   ],
   "source": [
    "data.tail()"
   ]
  },
  {
   "cell_type": "code",
   "execution_count": 29,
   "metadata": {},
   "outputs": [],
   "source": [
    "data.to_csv(\"week2.csv\", index=False)"
   ]
  }
 ],
 "metadata": {
  "kernelspec": {
   "display_name": "Python 3",
   "language": "python",
   "name": "python3"
  },
  "language_info": {
   "codemirror_mode": {
    "name": "ipython",
    "version": 3
   },
   "file_extension": ".py",
   "mimetype": "text/x-python",
   "name": "python",
   "nbconvert_exporter": "python",
   "pygments_lexer": "ipython3",
   "version": "3.7.6"
  }
 },
 "nbformat": 4,
 "nbformat_minor": 2
}
